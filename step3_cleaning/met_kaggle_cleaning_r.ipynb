{
 "cells": [
  {
   "cell_type": "markdown",
   "id": "3af0ec3d-6ff9-4f16-8f7f-a368d6eff223",
   "metadata": {},
   "source": [
    "# Cleaning the Met Open Access Dataset (Kaggle)"
   ]
  },
  {
   "cell_type": "code",
   "execution_count": null,
   "id": "085026b0",
   "metadata": {
    "vscode": {
     "languageId": "r"
    }
   },
   "outputs": [],
   "source": [
    "# These packages can also be installed in the CLI with 'conda' commands:\n",
    "\n",
    "install.packages(\"tidyverse\", repos='http://cran.us.r-project.org')\n",
    "install.packages(\"tm\", repos='http://cran.us.r-project.org')"
   ]
  },
  {
   "cell_type": "code",
   "execution_count": null,
   "id": "547b3381",
   "metadata": {
    "vscode": {
     "languageId": "r"
    }
   },
   "outputs": [],
   "source": [
    "# These packages couldn't be installed via conda, so they were installed from CRAN:\n",
    "\n",
    "install.packages(\"fedmatch\", repos='http://cran.us.r-project.org')\n",
    "install.packages(\"fuzzyjoin\", repos='http://cran.us.r-project.org')"
   ]
  },
  {
   "cell_type": "code",
   "execution_count": null,
   "id": "263b1078",
   "metadata": {
    "vscode": {
     "languageId": "r"
    }
   },
   "outputs": [],
   "source": [
    "# Import Libraries\n",
    "\n",
    "library(tidyverse)\n",
    "library(fuzzyjoin)\n",
    "library(fedmatch)\n",
    "library(tm)\n",
    "library(stringr)\n",
    "library(stringi)"
   ]
  },
  {
   "cell_type": "markdown",
   "id": "61de81a9-50ff-4721-992a-47656f0085e9",
   "metadata": {},
   "source": [
    "# Data Collection\n",
    "\n",
    "## Phase 1: Gather & Import Datasets"
   ]
  },
  {
   "cell_type": "code",
   "execution_count": 2,
   "id": "f6637fe6-4ccd-4a78-bccf-eb0b1b2aff80",
   "metadata": {
    "vscode": {
     "languageId": "r"
    }
   },
   "outputs": [],
   "source": [
    "# Import Data\n",
    "met_objects <- read.csv('../kaggle_csv/met_objects.csv')\n",
    "countries <- read.csv('../kaggle_csv/countries.csv')"
   ]
  },
  {
   "cell_type": "code",
   "execution_count": 3,
   "id": "0a2d8624-a804-4faa-a5fe-a83f11a97568",
   "metadata": {
    "tags": [],
    "vscode": {
     "languageId": "r"
    }
   },
   "outputs": [
    {
     "data": {
      "text/html": [
       "<style>\n",
       ".list-inline {list-style: none; margin:0; padding: 0}\n",
       ".list-inline>li {display: inline-block}\n",
       ".list-inline>li:not(:last-child)::after {content: \"\\00b7\"; padding: 0 .5ex}\n",
       "</style>\n",
       "<ol class=list-inline><li>'Object_Number'</li><li>'Is_Highlight'</li><li>'Is_Public_Domain'</li><li>'Object_ID'</li><li>'Department'</li><li>'Object_Name'</li><li>'Title'</li><li>'Culture'</li><li>'Period'</li><li>'Dynasty'</li><li>'Reign'</li><li>'Portfolio'</li><li>'Artist_Role'</li><li>'Artist_Prefix'</li><li>'Artist_Name'</li><li>'Artist_Display_Bio'</li><li>'Artist_Suffix'</li><li>'Artist_Alpha_Sort'</li><li>'Nationality'</li><li>'Artist_Begin_Date'</li><li>'Artist_End_Date'</li><li>'Object_Date'</li><li>'Object_Begin_Date'</li><li>'Object_End_Date'</li><li>'Object_Year'</li><li>'Medium'</li><li>'Dimensions'</li><li>'Credit'</li><li>'Geography_Type'</li><li>'City'</li><li>'State'</li><li>'County'</li><li>'Country'</li><li>'Region'</li><li>'Sub_Region'</li><li>'Locale'</li><li>'Locus'</li><li>'Excavation'</li><li>'River'</li><li>'Classification'</li><li>'Rights_and_Reproduction'</li><li>'Link_Resource'</li><li>'Metadata_Date'</li><li>'Repository'</li></ol>\n"
      ],
      "text/latex": [
       "\\begin{enumerate*}\n",
       "\\item 'Object\\_Number'\n",
       "\\item 'Is\\_Highlight'\n",
       "\\item 'Is\\_Public\\_Domain'\n",
       "\\item 'Object\\_ID'\n",
       "\\item 'Department'\n",
       "\\item 'Object\\_Name'\n",
       "\\item 'Title'\n",
       "\\item 'Culture'\n",
       "\\item 'Period'\n",
       "\\item 'Dynasty'\n",
       "\\item 'Reign'\n",
       "\\item 'Portfolio'\n",
       "\\item 'Artist\\_Role'\n",
       "\\item 'Artist\\_Prefix'\n",
       "\\item 'Artist\\_Name'\n",
       "\\item 'Artist\\_Display\\_Bio'\n",
       "\\item 'Artist\\_Suffix'\n",
       "\\item 'Artist\\_Alpha\\_Sort'\n",
       "\\item 'Nationality'\n",
       "\\item 'Artist\\_Begin\\_Date'\n",
       "\\item 'Artist\\_End\\_Date'\n",
       "\\item 'Object\\_Date'\n",
       "\\item 'Object\\_Begin\\_Date'\n",
       "\\item 'Object\\_End\\_Date'\n",
       "\\item 'Object\\_Year'\n",
       "\\item 'Medium'\n",
       "\\item 'Dimensions'\n",
       "\\item 'Credit'\n",
       "\\item 'Geography\\_Type'\n",
       "\\item 'City'\n",
       "\\item 'State'\n",
       "\\item 'County'\n",
       "\\item 'Country'\n",
       "\\item 'Region'\n",
       "\\item 'Sub\\_Region'\n",
       "\\item 'Locale'\n",
       "\\item 'Locus'\n",
       "\\item 'Excavation'\n",
       "\\item 'River'\n",
       "\\item 'Classification'\n",
       "\\item 'Rights\\_and\\_Reproduction'\n",
       "\\item 'Link\\_Resource'\n",
       "\\item 'Metadata\\_Date'\n",
       "\\item 'Repository'\n",
       "\\end{enumerate*}\n"
      ],
      "text/markdown": [
       "1. 'Object_Number'\n",
       "2. 'Is_Highlight'\n",
       "3. 'Is_Public_Domain'\n",
       "4. 'Object_ID'\n",
       "5. 'Department'\n",
       "6. 'Object_Name'\n",
       "7. 'Title'\n",
       "8. 'Culture'\n",
       "9. 'Period'\n",
       "10. 'Dynasty'\n",
       "11. 'Reign'\n",
       "12. 'Portfolio'\n",
       "13. 'Artist_Role'\n",
       "14. 'Artist_Prefix'\n",
       "15. 'Artist_Name'\n",
       "16. 'Artist_Display_Bio'\n",
       "17. 'Artist_Suffix'\n",
       "18. 'Artist_Alpha_Sort'\n",
       "19. 'Nationality'\n",
       "20. 'Artist_Begin_Date'\n",
       "21. 'Artist_End_Date'\n",
       "22. 'Object_Date'\n",
       "23. 'Object_Begin_Date'\n",
       "24. 'Object_End_Date'\n",
       "25. 'Object_Year'\n",
       "26. 'Medium'\n",
       "27. 'Dimensions'\n",
       "28. 'Credit'\n",
       "29. 'Geography_Type'\n",
       "30. 'City'\n",
       "31. 'State'\n",
       "32. 'County'\n",
       "33. 'Country'\n",
       "34. 'Region'\n",
       "35. 'Sub_Region'\n",
       "36. 'Locale'\n",
       "37. 'Locus'\n",
       "38. 'Excavation'\n",
       "39. 'River'\n",
       "40. 'Classification'\n",
       "41. 'Rights_and_Reproduction'\n",
       "42. 'Link_Resource'\n",
       "43. 'Metadata_Date'\n",
       "44. 'Repository'\n",
       "\n",
       "\n"
      ],
      "text/plain": [
       " [1] \"Object_Number\"           \"Is_Highlight\"           \n",
       " [3] \"Is_Public_Domain\"        \"Object_ID\"              \n",
       " [5] \"Department\"              \"Object_Name\"            \n",
       " [7] \"Title\"                   \"Culture\"                \n",
       " [9] \"Period\"                  \"Dynasty\"                \n",
       "[11] \"Reign\"                   \"Portfolio\"              \n",
       "[13] \"Artist_Role\"             \"Artist_Prefix\"          \n",
       "[15] \"Artist_Name\"             \"Artist_Display_Bio\"     \n",
       "[17] \"Artist_Suffix\"           \"Artist_Alpha_Sort\"      \n",
       "[19] \"Nationality\"             \"Artist_Begin_Date\"      \n",
       "[21] \"Artist_End_Date\"         \"Object_Date\"            \n",
       "[23] \"Object_Begin_Date\"       \"Object_End_Date\"        \n",
       "[25] \"Object_Year\"             \"Medium\"                 \n",
       "[27] \"Dimensions\"              \"Credit\"                 \n",
       "[29] \"Geography_Type\"          \"City\"                   \n",
       "[31] \"State\"                   \"County\"                 \n",
       "[33] \"Country\"                 \"Region\"                 \n",
       "[35] \"Sub_Region\"              \"Locale\"                 \n",
       "[37] \"Locus\"                   \"Excavation\"             \n",
       "[39] \"River\"                   \"Classification\"         \n",
       "[41] \"Rights_and_Reproduction\" \"Link_Resource\"          \n",
       "[43] \"Metadata_Date\"           \"Repository\"             "
      ]
     },
     "metadata": {},
     "output_type": "display_data"
    }
   ],
   "source": [
    "# Display columm names in met_objects\n",
    "\n",
    "colnames(met_objects)"
   ]
  },
  {
   "cell_type": "code",
   "execution_count": 4,
   "id": "f52bcd92-84a7-4ce0-aa49-a3cc52e84a9b",
   "metadata": {
    "vscode": {
     "languageId": "r"
    }
   },
   "outputs": [],
   "source": [
    "# Select Met data into DF\n",
    "\n",
    "met_df <- met_objects %>%\n",
    "    select(Object_Number, Object_Name, Title, \n",
    "           Department, Period, Object_Year, \n",
    "           Geography_Type, Culture, Nationality, Country, Region, Sub_Region, \n",
    "           Artist_Name, Medium, Classification, Dimensions, Credit)"
   ]
  },
  {
   "cell_type": "markdown",
   "id": "108bbed3-7256-4cbf-9cdd-26829494dbbe",
   "metadata": {},
   "source": [
    "## Credits: Data Sources\n",
    "\n",
    "* 1. met_objects dataset adapted from The Metropolitan Museum of Art Open Access's data on Kaggle @ https://www.kaggle.com/datasets/metmuseum/the-metropolitan-museum-of-art-open-access\n",
    "* 2. countries dataset adapted from Andrada's dataset, on Kaggle @ https://www.kaggle.com/datasets/andradaolteanu/country-mapping-iso-continent-region "
   ]
  },
  {
   "cell_type": "markdown",
   "id": "02f32aaa-aa9a-4707-879b-7a442ea54e75",
   "metadata": {
    "tags": []
   },
   "source": [
    "# Data Cleaning: Geography (Culture, Country, Nationality)\n",
    "## Phase 1: Parse Existing Values"
   ]
  },
  {
   "cell_type": "markdown",
   "id": "f357a338-9015-4701-812b-c2724c1b7470",
   "metadata": {},
   "source": [
    "## **Met: Culture**"
   ]
  },
  {
   "cell_type": "code",
   "execution_count": 5,
   "id": "c0f11929-ec0e-4ed5-81fc-0b9abe3eee12",
   "metadata": {
    "tags": [],
    "vscode": {
     "languageId": "r"
    }
   },
   "outputs": [],
   "source": [
    "# Make string lowercase\n",
    "\n",
    "culture_temp <- met_df$Culture\n",
    "\n",
    "culture_temp = tolower(culture_temp)"
   ]
  },
  {
   "cell_type": "markdown",
   "id": "e8b3bd17-7060-4d45-a90d-757face8d37a",
   "metadata": {},
   "source": [
    "## **Met: Country**"
   ]
  },
  {
   "cell_type": "code",
   "execution_count": 6,
   "id": "a3bba98c-fc4b-4966-9bb6-34504c16d531",
   "metadata": {
    "vscode": {
     "languageId": "r"
    }
   },
   "outputs": [],
   "source": [
    "# Make Strings Lowercase\n",
    "\n",
    "country_temp <- met_df$Country\n",
    "\n",
    "country_temp = tolower(country_temp)"
   ]
  },
  {
   "cell_type": "code",
   "execution_count": 7,
   "id": "4f6e4dc3-4256-4ebe-8062-91d893a3b757",
   "metadata": {
    "vscode": {
     "languageId": "r"
    }
   },
   "outputs": [],
   "source": [
    "# Remove Stop Words\n",
    "\n",
    "stop_words_country <- c(\"former\", \"modern\", \"possibly\", \"posssibly\", \"probably\", \"prbably\", \"present-day\")\n",
    "\n",
    "country_temp  =  removeWords(country_temp, stop_words_country) "
   ]
  },
  {
   "cell_type": "code",
   "execution_count": 8,
   "id": "e35a67e2",
   "metadata": {
    "vscode": {
     "languageId": "r"
    }
   },
   "outputs": [],
   "source": [
    "# Split Strings via Special Character Delimiters\n",
    "\n",
    "country_temp_2 <- strsplit(country_temp, split=\"[|,/?:[(]+\")\n",
    "\n",
    "m = 1\n",
    "\n",
    "while (m < length(country_temp)) {\n",
    "       \n",
    "    if ((is.na(country_temp_2[[m]][1]) | country_temp_2[[m]][1] == \"\") & length(country_temp_2[[m]]) == 1) {\n",
    "        country_temp[m] = \"unknown\"\n",
    "    }\n",
    "    \n",
    "    else if ((is.na(country_temp_2[[m]][1]) | country_temp_2[[m]][1] == \"\") & length(country_temp_2[[m]]) > 1) {\n",
    "        country_temp[m] = country_temp_2[[m]][2]\n",
    "    }\n",
    "    \n",
    "    else if (grepl(\"eastern mediterranean or egypt\", country_temp_2[[m]][1])) {\n",
    "        country_temp[m] <- str_replace(country_temp_2[[m]][1], \"eastern mediterranean or \", \"\")\n",
    "    }\n",
    "    \n",
    "    else if (grepl(\"democratic republic of\", country_temp_2[[m]][1]) & !grepl(\"congo\", country_temp_2[[m]][1])) {\n",
    "        country_temp[m] <- str_replace(country_temp_2[[m]][1], \"democratic republic of\", \"\")\n",
    "    }\n",
    "    \n",
    "    else if (grepl(\"republic of\", country_temp_2[[m]][1]) & !grepl(\"congo\", country_temp_2[[m]][1]) & !grepl(\"korea\", country_temp_2[[m]][1])) {\n",
    "        country_temp[m] <- str_replace(country_temp_2[[m]][1], \"republic of\", \"\")\n",
    "    }\n",
    "    \n",
    "    else if (grepl(\"central or \", country_temp_2[[m]][1])) {\n",
    "        country_temp[m] <- str_replace(country_temp_2[[m]][1], \"central or \", \"\")\n",
    "    }\n",
    "    \n",
    "    else if (grepl(\"central\", country_temp_2[[m]][1]) & !grepl(\"african republic\", country_temp_2[[m]][1])) {\n",
    "        country_temp[m] <- str_replace(country_temp_2[[m]][1], \"central\", \"\")\n",
    "    }\n",
    "    \n",
    "    else {\n",
    "        country_temp[m] = country_temp_2[[m]][1]\n",
    "    }\n",
    "    \n",
    "    m = m + 1\n",
    "}\n"
   ]
  },
  {
   "cell_type": "code",
   "execution_count": 9,
   "id": "2b8c5fb2",
   "metadata": {
    "vscode": {
     "languageId": "r"
    }
   },
   "outputs": [],
   "source": [
    "country_temp <- clean_strings(country_temp)"
   ]
  },
  {
   "cell_type": "code",
   "execution_count": 10,
   "id": "a6552f02",
   "metadata": {
    "vscode": {
     "languageId": "r"
    }
   },
   "outputs": [],
   "source": [
    "# Cardinal Directions & \"or\" / \"and\": Round 1\n",
    "\n",
    "delim_country_andor <- function(cty_list, cty_temp) {\n",
    "    n = 1\n",
    "\n",
    "    while (n < length(cty_list)) {\n",
    "        if ((is.na(cty_temp[[n]][1]) | cty_temp[[n]][1] == '') & length(cty_temp[[n]]) == 1) {\n",
    "            cty_list[n] = 'unknown'\n",
    "        }\n",
    "        \n",
    "        else if ((is.na(cty_temp[[n]][1]) | cty_temp[[n]][1] == '') & length(cty_temp[[n]]) > 1) {\n",
    "            cty_list[n] = cty_temp[[n]][2]\n",
    "        }\n",
    "        \n",
    "        else if (grepl(\"north|east|south|west|central\", cty_temp[[n]][1]) & !grepl(\" \", cty_temp[[n]][1])) {\n",
    "            cty_list[n] = cty_temp[[n]][2]\n",
    "        }\n",
    "\n",
    "        else {\n",
    "            cty_list[n] = cty_temp[[n]][1]\n",
    "        }\n",
    "\n",
    "        n = n + 1\n",
    "    }\n",
    "    \n",
    "    return(cty_list)\n",
    "}\n",
    "\n",
    "country_temp_3a <- strsplit(country_temp, split=\" or \")\n",
    "\n",
    "country_temp = delim_country_andor(country_temp, country_temp_3a)\n",
    "\n",
    "country_temp_3b = strsplit(country_temp, split=\" and \")\n",
    "\n",
    "country_temp = delim_country_andor(country_temp, country_temp_3b)\n"
   ]
  },
  {
   "cell_type": "code",
   "execution_count": 11,
   "id": "9450fe54",
   "metadata": {
    "vscode": {
     "languageId": "r"
    }
   },
   "outputs": [],
   "source": [
    "# Cardinal Directions: Round 2\n",
    "\n",
    "country_temp_4 <- strsplit(country_temp, split=\" \")\n",
    "\n",
    "o = 1\n",
    "\n",
    "while (o < length(country_temp)) {\n",
    "\n",
    "    if (length(country_temp_4[[o]]) > 1) {\n",
    "        \n",
    "        if (country_temp_4[[o]][1] == \"south\" & country_temp_4[[o]][2] == \"africa\") {\n",
    "            \n",
    "            country_temp[o] == \"south africa\"\n",
    "        }\n",
    "        \n",
    "        else if (country_temp_4[[o]][1] == \"western\" & country_temp_4[[o]][2] == \"sahara\") {\n",
    "            \n",
    "            country_temp[o] == \"western sahara\"\n",
    "        } \n",
    "        \n",
    "        else if (country_temp_4[[o]][1] == \"south\" & country_temp_4[[o]][2] == \"korea\") {\n",
    "            \n",
    "            country_temp[o] == \"south korea\"\n",
    "        } \n",
    "        \n",
    "         else if (country_temp_4[[o]][1] == \"south\" & country_temp_4[[o]][2] == \"sudan\") {\n",
    "            \n",
    "            country_temp[o] == \"south sudan\"\n",
    "        } \n",
    "        \n",
    "         else if (country_temp_4[[o]][1] == \"south\" & country_temp_4[[o]][2] == \"georgia\") {\n",
    "            \n",
    "            country_temp[o] == \"south georgia and the south sandwich islands\"\n",
    "        } \n",
    "        \n",
    "        else {\n",
    "            \n",
    "            z <- country_temp_4[[o]][!grepl(\"north|east|south|west|lower|nothern|sothern|region\", country_temp_4[[o]])]\n",
    "            country_temp[o] = paste(z, collapse=' ')\n",
    "        }\n",
    "    }\n",
    "    \n",
    "    o = o + 1\n",
    "}\n"
   ]
  },
  {
   "cell_type": "code",
   "execution_count": 12,
   "id": "53be42ef",
   "metadata": {
    "vscode": {
     "languageId": "r"
    }
   },
   "outputs": [],
   "source": [
    "# Standardize Country Spellings\n",
    "\n",
    "country_temp = str_replace_all(country_temp, c(\"alamania|alamanian\" = \"germany\",\n",
    "                                                  \"arabian peninsula\" = \"saudi arabia\",\n",
    "                                                  \"austrian\" = \"austria\",\n",
    "                                                  \"azerbaijian\" = \"azerbaijan\",\n",
    "                                                    \"belgian congo|dem rep congo|dem rep of congo|democratic republic of congo|democratic republic of the congo\" = \"democratic republic of congo\",\n",
    "                                                    \"brazzaville|french congo|republic of the congo|republic of congo\" = \"republic of congo\",\n",
    "                                                    \"britain|britian|british isles|england|scotland\" = \"united kingdom\",\n",
    "                                                    \"bohemia\" = \"czech republic\",\n",
    "                                                    \"bosnia herzegovina\" = \"bosnia and herzegovina\",\n",
    "                                                    \"burmah|burma\" = \"myanmar\",\n",
    "                                                    \"alexandria|byzantine egypt|excavated church of the archangel michael|fustat\" = \"egypt\",\n",
    "                                                    \"byzantium|crete\" = \"greece\",\n",
    "                                                    \"anatolia|antioch|constaninople|constantinople|lake van|nicomedia\" = \"turkey\",\n",
    "                                                    \"carpathian basin\" = \"hungary\",\n",
    "                                                    \"czechoslovakia\" = \"czech republic\",\n",
    "                                                    \"krinjabo|c te d ivoire|cote d ivoire|cote d'ivoire\" = \"ivory coast\",\n",
    "                                                    \"damascus|emesa|jazira\" = \"syria\",\n",
    "                                                    \"darabjird|persia\" = \"iran\",\n",
    "                                                    \"republic of timor leste|democratic republic of timor leste\" = \"timor leste\",\n",
    "                                                    \"federated states of micronesia|nauru\" = \"micronesia\",\n",
    "                                                    \"brussels|flanders|flemish\" = \"belgium\",\n",
    "                                                    \"french dahomey|dahomey|republic of benin|benin\" = \"benin\",\n",
    "                                                    \"early islamic palestine\" = \"palestine\",\n",
    "                                                    \"european\" = \"europe\",\n",
    "                                                    \"amman|gerasa\" = \"jordan\",\n",
    "                                                    \"germanyn|niederbreisig|rhein\" = \"germany\",\n",
    "                                                    \"gotland\" = \"sweden\",\n",
    "                                                    \"republic of guinea bissau|guinea bissau\" = \"guinea bissau\",\n",
    "                                                    \"haute garonne\" = \"france\",\n",
    "                                                    \"mangareva|marquesas islands|tahiti\" = \"french polynesia\",\n",
    "                                                    \"the marshall islands\" = \"marshall islands\",\n",
    "                                                    \"la t ne ii\" = \"gaul\",\n",
    "                                                    \"friesland|holland|netherlandsish|the netherlands|netherlandish\" = \"netherlands\",\n",
    "                                                    \"caesarea|canaan|latin kingdom of jerusalem|the holy land|jerusalem|tiberias\" = \"israel\",\n",
    "                                                    \"kosova\" = \"kosovo\",\n",
    "                                                    \"the iberian peninsula|iberian peninsula|spain or\" = \"spain\",\n",
    "                                                    \"italian|rome\" = \"italy\",\n",
    "                                                    \"liberia ivory coast\" = \"liberia\",\n",
    "                                                    \"sabah|sarawak\" = \"malaysia\",\n",
    "                                                    \"new republic\" = \"republic\",\n",
    "                                                    \"philippine islands|republic of the philippines|the philippines\" = \"philippines\",\n",
    "                                                    \"caucasus region|caucasus|russia federation|russian federation|russian\" = \"russia\",\n",
    "                                                    \"sulawesi|sumatra\" = \"indonesia\",\n",
    "                                                    \"tirana\" = \"albania\",\n",
    "                                                    \"tunesia\" = \"tunisia\",\n",
    "                                                    \"uganda sudan\" = \"uganda\",\n",
    "                                                    \"character 0|lisez et propagez nos annales|uncertain mint|unknown country\" = \"unknown\",\n",
    "                                                    \"united sates|united states of america|unites states|u s a\" = \"united states\",\n",
    "                                                    \"wallis\" = \"switzerland\",\n",
    "                                                    \"zanzibar\" = \"tanzania\"\n",
    "                                                   ))\n",
    "\n",
    "\n",
    "# Standardize names shorter than their replacements:\n",
    "country_temp_5 <- country_temp\n",
    "\n",
    "b <- 1\n",
    "while (b < length(country_temp)) {\n",
    "    if (is.na(country_temp_5[b])) {\n",
    "        country_temp[b] = \"unknown\"\n",
    "    }\n",
    "    \n",
    "    else if (country_temp_5[b] == \"america\" | country_temp_5[b] == \"united state\" | country_temp_5[b] == \"us\" | country_temp_5[b] == \"usa\") {\n",
    "        country_temp[b] = \"united states\"\n",
    "    }\n",
    "    \n",
    "    else if (country_temp_5[b]== \"arabia\") {\n",
    "        country_temp[b] = \"saudi arabia\"\n",
    "    }\n",
    "    \n",
    "    else if (country_temp_5[b]== \"bosnia\") {\n",
    "        country_temp[b] = \"bosnia and herzegovina\"\n",
    "    }\n",
    "    \n",
    "    else if (country_temp_5[b]== \"congo\") {\n",
    "        country_temp[b] = \"republic of congo\"\n",
    "    }\n",
    "    \n",
    "    else if (country_temp_5[b] == \"french\") {\n",
    "        country_temp[b] = \"france\"\n",
    "    }\n",
    "    \n",
    "    else if (country_temp_5[b] == \"german\") {\n",
    "        country_temp[b] = \"germany\"\n",
    "    }\n",
    "    \n",
    "    else if (country_temp_5[b] == \"herzegovina\") {\n",
    "        country_temp[b] = \"bosnia and herzegovina\"\n",
    "    }\n",
    "    \n",
    "    else if (country_temp_5[b] == \"korea\") {\n",
    "        country_temp[b] = \"south korea\"\n",
    "    }\n",
    "    \n",
    "    else if (country_temp_5[b] == \"netherland\") {\n",
    "        country_temp[b] = \"netherlands\"\n",
    "    }\n",
    "    \n",
    "    else if (country_temp_5[b] == \"new guinea\") {\n",
    "        country_temp[b] = \"papua new guinea\"\n",
    "    }\n",
    "    \n",
    "    else if (country_temp_5[b] == \"philippine\") {\n",
    "        country_temp[b] = \"philippines\"\n",
    "    }\n",
    "    \n",
    "    else if (country_temp_5[b] == \"surinam\") {\n",
    "        country_temp[b] = \"suriname\"\n",
    "    }\n",
    "    \n",
    "    else if (country_temp_5[b] == \"uk\") {\n",
    "        country_temp[b] = \"united kingdom\"\n",
    "    }\n",
    "    \n",
    "    else if (country_temp_5[b] == \"urundi\") {\n",
    "        country_temp[b] = \"burundi\"\n",
    "    }\n",
    "    \n",
    "    else if (grepl(\"exacavated|excavated\", country_temp_5[b])) {\n",
    "        country_temp[b] = \"jordan\"\n",
    "    }\n",
    "    \n",
    "    b = b + 1\n",
    "}\n"
   ]
  },
  {
   "cell_type": "code",
   "execution_count": 13,
   "id": "dcbe7252",
   "metadata": {
    "vscode": {
     "languageId": "r"
    }
   },
   "outputs": [],
   "source": [
    "# Create new column in met_df to contain Country_2 data\n",
    "\n",
    "met_df$Country_2 <- country_temp"
   ]
  },
  {
   "cell_type": "markdown",
   "id": "62cf1b9c-43a0-4d1d-97b3-4950fb90e214",
   "metadata": {},
   "source": [
    "## **Met: Nationality**"
   ]
  },
  {
   "cell_type": "code",
   "execution_count": 102,
   "id": "fdbf409f-d480-4a72-acf9-3b82b165e847",
   "metadata": {
    "vscode": {
     "languageId": "r"
    }
   },
   "outputs": [],
   "source": [
    "# Make Strings Lowercase\n",
    "\n",
    "nationality_temp <- met_df$Nationality\n",
    "\n",
    "nationality_temp = tolower(nationality_temp)"
   ]
  },
  {
   "cell_type": "code",
   "execution_count": 103,
   "id": "b64953e6-2679-4816-9cbb-e5721be7d0c2",
   "metadata": {
    "vscode": {
     "languageId": "r"
    }
   },
   "outputs": [],
   "source": [
    "# Remove Stop Words\n",
    "\n",
    "stop_words_nationality <- c(\"active in\", \"family\", \"possibly\", \"probably\")\n",
    "\n",
    "nationality_temp = removeWords(nationality_temp, stop_words_nationality) "
   ]
  },
  {
   "cell_type": "code",
   "execution_count": 104,
   "id": "b8f0022a",
   "metadata": {
    "vscode": {
     "languageId": "r"
    }
   },
   "outputs": [],
   "source": [
    "# Split Strings via Special Character Delimiters\n",
    "\n",
    "nationality_temp_2 <- strsplit(nationality_temp, split=\"[|,/?:[(]+\")\n",
    "\n",
    "m = 1\n",
    "\n",
    "while (m < length(nationality_temp)) {\n",
    "       \n",
    "    if ((is.na(nationality_temp_2[[m]][1]) | nationality_temp_2[[m]][1] == '') & length(nationality_temp_2[[m]]) == 1) {\n",
    "        nationality_temp[m] = \"unknown\"\n",
    "    }\n",
    "    \n",
    "    else {\n",
    "        nationality_temp[m] = nationality_temp_2[[m]][1]\n",
    "    }\n",
    "    \n",
    "    m = m + 1\n",
    "}\n"
   ]
  },
  {
   "cell_type": "code",
   "execution_count": 105,
   "id": "39c849b9",
   "metadata": {
    "vscode": {
     "languageId": "r"
    }
   },
   "outputs": [],
   "source": [
    "# Clean strings\n",
    "\n",
    "nationality_temp = clean_strings(nationality_temp)"
   ]
  },
  {
   "cell_type": "code",
   "execution_count": 106,
   "id": "dfacf55b",
   "metadata": {
    "vscode": {
     "languageId": "r"
    }
   },
   "outputs": [],
   "source": [
    "# Cardinal Directions & \"or\" / \"and\": Round 1\n",
    "\n",
    "delim_nationality_andor <- function(nat_list, nat_temp) {\n",
    "    n = 1\n",
    "\n",
    "    while (n < length(nat_list)) {\n",
    "        if ((is.na(nat_temp[[n]][1]) | nat_temp[[n]][1] == '') & length(nat_temp[[n]]) == 1) {\n",
    "            nat_list[n] = nat_temp[[n]][2]\n",
    "        }\n",
    "\n",
    "        else {\n",
    "            nat_list[n] = nat_temp[[n]][1]\n",
    "        }\n",
    "\n",
    "        n = n + 1\n",
    "    }\n",
    "    \n",
    "    return(nat_list)\n",
    "}\n",
    "\n",
    "\n",
    "nationality_temp_3a <- strsplit(nationality_temp, split=\" or \")\n",
    "\n",
    "nationality_temp = delim_country_andor(nationality_temp, nationality_temp_3a)\n",
    "\n",
    "nationality_temp_3b = strsplit(nationality_temp, split=\" and \")\n",
    "\n",
    "nationality_temp = delim_country_andor(nationality_temp, nationality_temp_3b)\n",
    "\n",
    "nationality_temp_3c = strsplit(nationality_temp, split=\" born \")\n",
    "\n",
    "nationality_temp = delim_country_andor(nationality_temp, nationality_temp_3c)\n"
   ]
  },
  {
   "cell_type": "code",
   "execution_count": 107,
   "id": "80d356c0",
   "metadata": {
    "vscode": {
     "languageId": "r"
    }
   },
   "outputs": [],
   "source": [
    "# Cardinal Directions: Round 2\n",
    "\n",
    "nationality_temp_4 <- strsplit(nationality_temp, split=\" \")\n",
    "\n",
    "o = 1\n",
    "\n",
    "while (o < length(nationality_temp)) {\n",
    "\n",
    "    if (length(nationality_temp_4[[o]]) > 1) {\n",
    "        \n",
    "        if (nationality_temp_4[[o]][1] == \"south\" & nationality_temp_4[[o]][2] == \"african\") {\n",
    "            \n",
    "            nationality_temp[o] == \"south african\"\n",
    "        }\n",
    "        \n",
    "        else if (nationality_temp_4[[o]][1] == \"western\" & nationality_temp_4[[o]][2] == \"saharan\") {\n",
    "            \n",
    "            nationality_temp[o] == \"western saharan\"\n",
    "        }\n",
    "        \n",
    "        else if (nationality_temp_4[[o]][1] == \"south\" & nationality_temp_4[[o]][2] == \"korean\") {\n",
    "            \n",
    "            nationality_temp[o] == \"south korean\"\n",
    "        }\n",
    "        \n",
    "        else if (nationality_temp_4[[o]][1] == \"south\" & nationality_temp_4[[o]][2] == \"sudan\") {\n",
    "            \n",
    "            nationality_temp[o] == \"south sudan\"\n",
    "        }\n",
    "        \n",
    "        else if (nationality_temp_4[[o]][1] == \"south\" & nationality_temp_4[[o]][2] == \"georgia\") {\n",
    "            \n",
    "            nationality_temp[o] == \"south georgian\"\n",
    "        }\n",
    "        \n",
    "        else {\n",
    "            \n",
    "            z <- nationality_temp_4[[o]][!grepl(\"north|east|south|west\", nationality_temp_4[[o]])]\n",
    "            nationality_temp[o] = paste(z, collapse=' ')\n",
    "        }\n",
    "    }\n",
    "    \n",
    "    o = o + 1\n",
    "}"
   ]
  },
  {
   "cell_type": "code",
   "execution_count": 108,
   "id": "c2c135de",
   "metadata": {
    "vscode": {
     "languageId": "r"
    }
   },
   "outputs": [],
   "source": [
    "# Standardize Nationality Spellings\n",
    "\n",
    "nationality_temp_5 = str_replace_all(nationality_temp, c(\"franco \" = \"\",\n",
    "                                                          \"american german|british american|chiricahua apache native american|antelope valley washoe|first nations|french american|german american|iranian american|japanese american|mexican american|new york|native american\" = \"american\",\n",
    "                                                          \"armenian iranian|persian\" = \"iranian\",\n",
    "                                                          \"asmat\" = \"papua new guinea\",\n",
    "                                                          \"austro hungarian\" = \"hungarian\",\n",
    "                                                          \"byzantine\" = \"greek\",\n",
    "                                                          \"bohemian|czechoslovakian\" = \"czech\",\n",
    "                                                          \"algonquin|haida|inuit\" = \"canadian\",\n",
    "                                                          \"danish icelandic\" = \"icelandic\",\n",
    "                                                          \"denmark\" = \"danish\",\n",
    "                                                          \"dem republic of the congo|democratic republic of congo|democratic republic of the congo\" = \"congolese\",\n",
    "                                                          \"ecuadorian\" = \"ecuadorean\",\n",
    "                                                          \"alsatian|france by 1894|fench|france|france by 1894|french 1866 1932|paris\" = \"french\",\n",
    "                                                          \"finish\" = \"finnish\",\n",
    "                                                          \"greenlandish\" = \"greenlandic\",\n",
    "                                                          \"emilian|florence|french italian|italy|lombard|naples|siena|sienese|tuscany|venetian|veronese\" = \"italian\",\n",
    "                                                          \"burgundian|french dutch|netherlands|nethrlandish|netherlandish|netherland\" = \"dutch\",\n",
    "                                                          \"belgium|brabant|flemish\" = \"belgian\",\n",
    "                                                          \"aachen|austrian german|bremen|geman|germany|hannoverian|hannover|hanoverian|prussian|upper rhine\" = \"german\",\n",
    "                                                          \"khitan|manchu\" = \"chinese\",\n",
    "                                                          \"iraqi kurdish\" = \"iraqi\",\n",
    "                                                          \"ottoman\" = \"turkish\",\n",
    "                                                          \"london|english|united kingdom|scottish|welsh\" = \"british\",\n",
    "                                                          \"manufacturer\" = \"unknown\",\n",
    "                                                          \"norway\" = \"norwegian\",\n",
    "                                                          \"papua new guinea\" = \"papuan\",\n",
    "                                                          \"polish lithunanian\" = \"lithuanian\",\n",
    "                                                          \"rumanian\" = \"romanian\",\n",
    "                                                          \"serbo croat\" = \"croatian\",\n",
    "                                                          \"ukranian\" = \"ukrainian\"\n",
    "                                                         ))\n",
    "\n",
    "\n",
    "# Standardize names shorter than their replacements:\n",
    "nationality_temp = nationality_temp_5\n",
    "\n",
    "b <- 1\n",
    "while (b < length(nationality_temp)) {\n",
    "    if (is.na(nationality_temp_5[b]) | nationality_temp_5[b] == \"\") {\n",
    "        nationality_temp[b] = \"unknown\"\n",
    "    }\n",
    "    \n",
    "    else if (nationality_temp_5[b] == \"africa\") {\n",
    "        nationality_temp[b] = \"african\"\n",
    "    }\n",
    "    \n",
    "    else if (nationality_temp_5[b] == \"america\" | nationality_temp_5[b] == \"us\" | nationality_temp_5[b] == \"u s\" | nationality_temp_5[b] == \"usa\" | nationality_temp_5[b] == \"united states\") {\n",
    "        nationality_temp[b] = \"american\"\n",
    "    }\n",
    "    \n",
    "    \n",
    "    else if (nationality_temp_5[b] == \"austria\") {\n",
    "        nationality_temp[b] = \"austrian\"\n",
    "    }\n",
    "    \n",
    "    else if (nationality_temp_5[b] == \"cameroon\") {\n",
    "        nationality_temp[b] = \"cameroonian\"\n",
    "    }\n",
    "    \n",
    "    else if (nationality_temp_5[b] == \"canada\") {\n",
    "        nationality_temp[b] = \"canadian\"\n",
    "    }\n",
    "    \n",
    "    else if (nationality_temp_5[b] == \"congo\") {\n",
    "        nationality_temp[b] = \"congolese\"\n",
    "    }\n",
    "    \n",
    "    else if (nationality_temp_5[b] == \"gabon\") {\n",
    "        nationality_temp[b] = \"gabonese\"\n",
    "    }\n",
    "    \n",
    "    else if (nationality_temp_5[b] == \"iran\") {\n",
    "        nationality_temp[b] = \"iranian\"\n",
    "    }\n",
    "    \n",
    "    else if (nationality_temp_5[b] == \"japan\") {\n",
    "        nationality_temp[b] = \"japanese\"\n",
    "    }\n",
    "    \n",
    "    else if (nationality_temp_5[b] == \"kashmir\") {\n",
    "        nationality_temp[b] = \"indian\"\n",
    "    }\n",
    "    \n",
    "    else if (nationality_temp_5[b] == \"nigeria\") {\n",
    "        nationality_temp[b] = \"nigerian\"\n",
    "    }\n",
    "    \n",
    "    else if (nationality_temp_5[b] == \"roman\") {\n",
    "        nationality_temp[b] = \"italian\"\n",
    "    }\n",
    "    \n",
    "    else if (nationality_temp_5[b] == \"sierra leone\") {\n",
    "        nationality_temp[b] = \"sierra leonean\"\n",
    "    }\n",
    "    \n",
    "    else if (nationality_temp_5[b] == \"tajikistan\") {\n",
    "        nationality_temp[b] = \"tajikistani\"\n",
    "    }\n",
    "    \n",
    "    else if (nationality_temp_5[b] == \"uganda\") {\n",
    "        nationality_temp[b] = \"ugandan\"\n",
    "    }\n",
    "    \n",
    "    b = b + 1\n",
    "}\n"
   ]
  },
  {
   "cell_type": "code",
   "execution_count": 109,
   "id": "493934f8-e6e1-4342-9347-21fff51a18e6",
   "metadata": {
    "vscode": {
     "languageId": "r"
    }
   },
   "outputs": [],
   "source": [
    "# Clean strings\n",
    "\n",
    "nationality_temp = clean_strings(nationality_temp)"
   ]
  },
  {
   "cell_type": "code",
   "execution_count": 110,
   "id": "cc5ad84d",
   "metadata": {
    "vscode": {
     "languageId": "r"
    }
   },
   "outputs": [],
   "source": [
    "# Create new column 'Country_2'\n",
    "\n",
    "met_df$Nationality_2 <- nationality_temp"
   ]
  },
  {
   "cell_type": "markdown",
   "id": "0bf0d4fc-6808-4a29-ba54-1e6a4b59bbc0",
   "metadata": {},
   "source": [
    "## **Countries Linking Table: Country**"
   ]
  },
  {
   "cell_type": "code",
   "execution_count": 27,
   "id": "720c56b5-1269-4f25-85b5-7c87011f1018",
   "metadata": {
    "vscode": {
     "languageId": "r"
    }
   },
   "outputs": [],
   "source": [
    "# Clean strings and convert to lowercase\n",
    "\n",
    "country_link <- countries$Country\n",
    "country_link = tolower(country_link)\n",
    "country_link = clean_strings(country_link)"
   ]
  },
  {
   "cell_type": "code",
   "execution_count": 28,
   "id": "cc2ab57c",
   "metadata": {
    "vscode": {
     "languageId": "r"
    }
   },
   "outputs": [],
   "source": [
    "countries$Country_2 <- country_link"
   ]
  },
  {
   "cell_type": "code",
   "execution_count": 112,
   "id": "54760640",
   "metadata": {
    "vscode": {
     "languageId": "r"
    }
   },
   "outputs": [
    {
     "name": "stdout",
     "output_type": "stream",
     "text": [
      "[1] \"--- --- --- --- ---\"\n",
      "[1] \"IN LINKING TABLE:\"\n",
      "[1] \"--- --- --- --- ---\"\n",
      "[1] \"afghanistan\"\n",
      "[1] \"albania\"\n",
      "[1] \"algeria\"\n",
      "[1] \"angola\"\n",
      "[1] \"argentina\"\n",
      "[1] \"armenia\"\n",
      "[1] \"australia\"\n",
      "[1] \"austria\"\n",
      "[1] \"azerbaijan\"\n",
      "[1] \"bangladesh\"\n",
      "[1] \"belgium\"\n",
      "[1] \"benin\"\n",
      "[1] \"bermuda\"\n",
      "[1] \"bhutan\"\n",
      "[1] \"bolivia\"\n",
      "[1] \"bosnia and herzegovina\"\n",
      "[1] \"brazil\"\n",
      "[1] \"bulgaria\"\n",
      "[1] \"burkina faso\"\n",
      "[1] \"burundi\"\n",
      "[1] \"cambodia\"\n",
      "[1] \"cameroon\"\n",
      "[1] \"canada\"\n",
      "[1] \"central african republic\"\n",
      "[1] \"chad\"\n",
      "[1] \"chile\"\n",
      "[1] \"china\"\n",
      "[1] \"colombia\"\n",
      "[1] \"cook islands\"\n",
      "[1] \"costa rica\"\n",
      "[1] \"croatia\"\n",
      "[1] \"cuba\"\n",
      "[1] \"cyprus\"\n",
      "[1] \"czech republic\"\n",
      "[1] \"democratic republic of congo\"\n",
      "[1] \"denmark\"\n",
      "[1] \"dominican republic\"\n",
      "[1] \"ecuador\"\n",
      "[1] \"egypt\"\n",
      "[1] \"el salvador\"\n",
      "[1] \"equatorial guinea\"\n",
      "[1] \"ethiopia\"\n",
      "[1] \"fiji\"\n",
      "[1] \"finland\"\n",
      "[1] \"france\"\n",
      "[1] \"french guiana\"\n",
      "[1] \"french polynesia\"\n",
      "[1] \"gabon\"\n",
      "[1] \"gambia\"\n",
      "[1] \"georgia\"\n",
      "[1] \"germany\"\n",
      "[1] \"ghana\"\n",
      "[1] \"greece\"\n",
      "[1] \"greenland\"\n",
      "[1] \"guatemala\"\n",
      "[1] \"guinea\"\n",
      "[1] \"guinea bissau\"\n",
      "[1] \"guyana\"\n",
      "[1] \"honduras\"\n",
      "[1] \"hungary\"\n",
      "[1] \"india\"\n",
      "[1] \"indonesia\"\n",
      "[1] \"iran\"\n",
      "[1] \"iraq\"\n",
      "[1] \"ireland\"\n",
      "[1] \"israel\"\n",
      "[1] \"italy\"\n",
      "[1] \"ivory coast\"\n",
      "[1] \"japan\"\n",
      "[1] \"jordan\"\n",
      "[1] \"kenya\"\n",
      "[1] \"kiribati\"\n",
      "[1] \"kosovo\"\n",
      "[1] \"laos\"\n",
      "[1] \"lebanon\"\n",
      "[1] \"lesotho\"\n",
      "[1] \"liberia\"\n",
      "[1] \"macedonia\"\n",
      "[1] \"madagascar\"\n",
      "[1] \"malawi\"\n",
      "[1] \"malaysia\"\n",
      "[1] \"mali\"\n",
      "[1] \"malta\"\n",
      "[1] \"marshall islands\"\n",
      "[1] \"mauritania\"\n",
      "[1] \"mexico\"\n",
      "[1] \"micronesia\"\n",
      "[1] \"mongolia\"\n",
      "[1] \"montenegro\"\n",
      "[1] \"morocco\"\n",
      "[1] \"mozambique\"\n",
      "[1] \"myanmar\"\n",
      "[1] \"namibia\"\n",
      "[1] \"nepal\"\n",
      "[1] \"netherlands\"\n",
      "[1] \"new caledonia\"\n",
      "[1] \"new zealand\"\n",
      "[1] \"nicaragua\"\n",
      "[1] \"niger\"\n",
      "[1] \"nigeria\"\n",
      "[1] \"norfolk island\"\n",
      "[1] \"norway\"\n",
      "[1] \"pakistan\"\n",
      "[1] \"palau\"\n",
      "[1] \"palestine\"\n",
      "[1] \"panama\"\n",
      "[1] \"papua new guinea\"\n",
      "[1] \"paraguay\"\n",
      "[1] \"peru\"\n",
      "[1] \"philippines\"\n",
      "[1] \"poland\"\n",
      "[1] \"portugal\"\n",
      "[1] \"puerto rico\"\n",
      "[1] \"republic of congo\"\n",
      "[1] \"romania\"\n",
      "[1] \"russia\"\n",
      "[1] \"rwanda\"\n",
      "[1] \"samoa\"\n",
      "[1] \"saudi arabia\"\n",
      "[1] \"senegal\"\n",
      "[1] \"serbia\"\n",
      "[1] \"sierra leone\"\n",
      "[1] \"slovakia\"\n",
      "[1] \"slovenia\"\n",
      "[1] \"solomon islands\"\n",
      "[1] \"somalia\"\n",
      "[1] \"south africa\"\n",
      "[1] \"south korea\"\n",
      "[1] \"spain\"\n",
      "[1] \"sri lanka\"\n",
      "[1] \"sudan\"\n",
      "[1] \"suriname\"\n",
      "[1] \"sweden\"\n",
      "[1] \"switzerland\"\n",
      "[1] \"syria\"\n",
      "[1] \"taiwan\"\n",
      "[1] \"tajikistan\"\n",
      "[1] \"tanzania\"\n",
      "[1] \"thailand\"\n",
      "[1] \"tibet\"\n",
      "[1] \"timor leste\"\n",
      "[1] \"togo\"\n",
      "[1] \"tonga\"\n",
      "[1] \"tunisia\"\n",
      "[1] \"turkey\"\n",
      "[1] \"turkmenistan\"\n",
      "[1] \"uganda\"\n",
      "[1] \"ukraine\"\n",
      "[1] \"united kingdom\"\n",
      "[1] \"united states\"\n",
      "[1] \"uzbekistan\"\n",
      "[1] \"vanuatu\"\n",
      "[1] \"venezuela\"\n",
      "[1] \"vietnam\"\n",
      "[1] \"yemen\"\n",
      "[1] \"zambia\"\n",
      "[1] \"zimbabwe\"\n",
      "[1] \"\"\n",
      "[1] \"\"\n",
      "[1] \"--- --- --- --- ---\"\n",
      "[1] \"NOT IN LINKING TABLE:\"\n",
      "[1] \"--- --- --- --- ---\"\n",
      "[1] \"\"\n",
      "[1] \"adriatic\"\n",
      "[1] \"africa\"\n",
      "[1] \"asia\"\n",
      "[1] \"black sea\"\n",
      "[1] \"borneo\"\n",
      "[1] \"europe\"\n",
      "[1] \"gaul\"\n",
      "[1] \"islamic lands\"\n",
      "[1] \"mediterranean\"\n",
      "[1] \"scandinavia\"\n",
      "[1] \"unknown\"\n",
      "[1] \"yugoslavia\"\n"
     ]
    }
   ],
   "source": [
    "# Print met_df country values that are / are not in the 'countries' linking table\n",
    "\n",
    "lcn <- c(names(table(countries$Country_2)))\n",
    "cn <- c(names(table(met_df$Country_2)))\n",
    "\n",
    "print(\"--- --- --- --- ---\")\n",
    "print(\"IN LINKING TABLE:\")\n",
    "print(\"--- --- --- --- ---\")\n",
    "for (c in cn) {\n",
    "    if ((c %in% lcn)) {\n",
    "        print(c)\n",
    "    }\n",
    "}\n",
    "\n",
    "print(\"\")\n",
    "print(\"\")\n",
    "print(\"--- --- --- --- ---\")\n",
    "print(\"NOT IN LINKING TABLE:\")\n",
    "print(\"--- --- --- --- ---\")\n",
    "for (c in cn) {\n",
    "    if (!(c %in% lcn)) {\n",
    "        print(c)\n",
    "    }\n",
    "}"
   ]
  },
  {
   "cell_type": "code",
   "execution_count": null,
   "id": "0121adbe",
   "metadata": {
    "vscode": {
     "languageId": "r"
    }
   },
   "outputs": [],
   "source": [
    "# Working with 'unknown' values. The majority of records do not have accurate \n",
    "# location information for their origins. This felt like the end of the road\n",
    "# for the project, since missing the majority of the location information\n",
    "# makes drawing accurate conclusions about cultural representation difficult.\n",
    "\n",
    "# Below, the 'Country_2' column will be used to supplement country data\n",
    "\n",
    "# However, this data also can speak in other ways (in addition to mapping\n",
    "# location values that do exist). For example, what types of objects are least and\n",
    "# most likely to have locations entered? Are items on display more likely to have\n",
    "# accurate location details? Do other correlations exist, such as credit or period? \n",
    "\n",
    "# Update: 1 Sept 2023 -- Decided to make this into a ML project. Can I train a model on existing\n",
    "# Country & Nationality data to fill in missing values?\n",
    "\n",
    "# met_df[met_df$Country_2 == 'unknown',]"
   ]
  },
  {
   "cell_type": "markdown",
   "id": "1b8ea32d-9a90-4e09-acfc-e0ef0b2a927e",
   "metadata": {},
   "source": [
    "## **Countries Linking Table: Nationality**"
   ]
  },
  {
   "cell_type": "code",
   "execution_count": 30,
   "id": "42d511e0-46ae-44bb-ac53-afb428d45b95",
   "metadata": {
    "vscode": {
     "languageId": "r"
    }
   },
   "outputs": [],
   "source": [
    "# Clean strings and convert to lowercase\n",
    "\n",
    "nationality_link <- countries$Nationality\n",
    "nationality_link = tolower(nationality_link)\n",
    "nationality_link = clean_strings(nationality_link)"
   ]
  },
  {
   "cell_type": "code",
   "execution_count": 31,
   "id": "0b3d820c",
   "metadata": {
    "vscode": {
     "languageId": "r"
    }
   },
   "outputs": [],
   "source": [
    "countries$Nationality_2 <- nationality_link"
   ]
  },
  {
   "cell_type": "code",
   "execution_count": 111,
   "id": "8483a85c",
   "metadata": {
    "vscode": {
     "languageId": "r"
    }
   },
   "outputs": [
    {
     "name": "stdout",
     "output_type": "stream",
     "text": [
      "[1] \"--- --- --- --- ---\"\n",
      "[1] \"IN LINKING TABLE:\"\n",
      "[1] \"--- --- --- --- ---\"\n",
      "[1] \"albanian\"\n",
      "[1] \"algerian\"\n",
      "[1] \"american\"\n",
      "[1] \"andorran\"\n",
      "[1] \"argentinian\"\n",
      "[1] \"armenian\"\n",
      "[1] \"australian\"\n",
      "[1] \"austrian\"\n",
      "[1] \"belgian\"\n",
      "[1] \"brazilian\"\n",
      "[1] \"british\"\n",
      "[1] \"bulgarian\"\n",
      "[1] \"cameroonian\"\n",
      "[1] \"canadian\"\n",
      "[1] \"chilean\"\n",
      "[1] \"chinese\"\n",
      "[1] \"colombian\"\n",
      "[1] \"congolese\"\n",
      "[1] \"costa rican\"\n",
      "[1] \"croatian\"\n",
      "[1] \"cuban\"\n",
      "[1] \"czech\"\n",
      "[1] \"danish\"\n",
      "[1] \"dominican\"\n",
      "[1] \"dutch\"\n",
      "[1] \"ecuadorean\"\n",
      "[1] \"egyptian\"\n",
      "[1] \"finnish\"\n",
      "[1] \"french\"\n",
      "[1] \"gabonese\"\n",
      "[1] \"georgian\"\n",
      "[1] \"german\"\n",
      "[1] \"ghanaian\"\n",
      "[1] \"greek\"\n",
      "[1] \"greenlandic\"\n",
      "[1] \"guatemalan\"\n",
      "[1] \"hungarian\"\n",
      "[1] \"icelandic\"\n",
      "[1] \"indian\"\n",
      "[1] \"iranian\"\n",
      "[1] \"iraqi\"\n",
      "[1] \"irish\"\n",
      "[1] \"israeli\"\n",
      "[1] \"italian\"\n",
      "[1] \"japanese\"\n",
      "[1] \"korean\"\n",
      "[1] \"kuwaiti\"\n",
      "[1] \"lebanese\"\n",
      "[1] \"lithuanian\"\n",
      "[1] \"malaysian\"\n",
      "[1] \"malian\"\n",
      "[1] \"maltese\"\n",
      "[1] \"mexican\"\n",
      "[1] \"mongolian\"\n",
      "[1] \"new zealander\"\n",
      "[1] \"nigerian\"\n",
      "[1] \"norwegian\"\n",
      "[1] \"pakistani\"\n",
      "[1] \"panamanian\"\n",
      "[1] \"papuan\"\n",
      "[1] \"peruvian\"\n",
      "[1] \"polish\"\n",
      "[1] \"portuguese\"\n",
      "[1] \"puerto rican\"\n",
      "[1] \"romanian\"\n",
      "[1] \"russian\"\n",
      "[1] \"saint lucian\"\n",
      "[1] \"samoan\"\n",
      "[1] \"sierra leonean\"\n",
      "[1] \"slovakian\"\n",
      "[1] \"south african\"\n",
      "[1] \"spanish\"\n",
      "[1] \"sri lankan\"\n",
      "[1] \"swedish\"\n",
      "[1] \"swiss\"\n",
      "[1] \"taiwanese\"\n",
      "[1] \"tajikistani\"\n",
      "[1] \"tibetan\"\n",
      "[1] \"turkish\"\n",
      "[1] \"ugandan\"\n",
      "[1] \"ukrainian\"\n",
      "[1] \"uruguayan\"\n",
      "[1] \"venezuelan\"\n",
      "[1] \"\"\n",
      "[1] \"\"\n",
      "[1] \"--- --- --- --- ---\"\n",
      "[1] \"NOT IN LINKING TABLE:\"\n",
      "[1] \"--- --- --- --- ---\"\n",
      "[1] \"\"\n",
      "[1] \"african\"\n",
      "[1] \"central european\"\n",
      "[1] \"coast africa\"\n",
      "[1] \"continental\"\n",
      "[1] \"european\"\n",
      "[1] \"islamic\"\n",
      "[1] \"scandinavian\"\n",
      "[1] \"unknown\"\n",
      "[1] \"yugoslavian\"\n"
     ]
    }
   ],
   "source": [
    "# Print met_df nationality values that are / are not in the 'countries' linking table\n",
    "\n",
    "lnn <- c(names(table(countries$Nationality_2)))\n",
    "nn <- c(names(table(met_df$Nationality_2)))\n",
    "\n",
    "print(\"--- --- --- --- ---\")\n",
    "print(\"IN LINKING TABLE:\")\n",
    "print(\"--- --- --- --- ---\")\n",
    "for (n in nn) {\n",
    "    if ((n %in% lnn)) {\n",
    "        print(n)\n",
    "    }\n",
    "}\n",
    "\n",
    "print(\"\")\n",
    "print(\"\")\n",
    "print(\"--- --- --- --- ---\")\n",
    "print(\"NOT IN LINKING TABLE:\")\n",
    "print(\"--- --- --- --- ---\")\n",
    "for (n in nn) {\n",
    "    if (!(n %in% lnn)) {\n",
    "        print(n)\n",
    "    }\n",
    "}"
   ]
  },
  {
   "cell_type": "markdown",
   "id": "328816db-d513-4309-8f5b-81d62bdcd92b",
   "metadata": {},
   "source": [
    "# Data Cleaning: Country & Nationality\n",
    "## Phase 2: Replace 'Unknown' Values via Linking Table\n",
    "\n",
    "If either (but not both) Country_2 or Nationality_2 in 'met_df' is blank, \n",
    "the other value will be matched to the corresponding \n",
    "'countries' value, and the missing value in 'met_df' will replace 'unknown.'\n",
    "\n",
    "\n",
    "### Before this cleaning phase:\n",
    "\n",
    "* Country_2 has 366365 unknown records out of 448203 total, and Nationality_2 has 252232\n",
    "* Among unknown Country_2 values, 189009 have known values in the Nationality_2 column \n",
    "* Among unknown Nationality_2 values, 71552 have known values in the Country_2 column"
   ]
  },
  {
   "cell_type": "markdown",
   "id": "323c3964-e90f-44fb-a830-bd61d79d0867",
   "metadata": {},
   "source": [
    "### **Step 1: Add missing Country_2 values with existing Nationality_2 values**"
   ]
  },
  {
   "cell_type": "code",
   "execution_count": 34,
   "id": "98d250cf-cf56-4233-874b-7cf8482f515c",
   "metadata": {
    "vscode": {
     "languageId": "r"
    }
   },
   "outputs": [],
   "source": [
    "# Create df with unknown countries\n",
    "\n",
    "unknown_cty_df <- met_df[met_df$Country_2 == 'unknown',]"
   ]
  },
  {
   "cell_type": "code",
   "execution_count": 35,
   "id": "791534b2-949a-4978-bd11-91e383592949",
   "metadata": {
    "tags": [],
    "vscode": {
     "languageId": "r"
    }
   },
   "outputs": [],
   "source": [
    "# Create df from rows in unknown_df with known nationalities\n",
    "# Object_Number will be used to map new Country_2 values back to met_df\n",
    "\n",
    "unknown_cty_df_compare <- unknown_cty_df[unknown_cty_df$Nationality_2 != 'unknown',]"
   ]
  },
  {
   "cell_type": "code",
   "execution_count": 36,
   "id": "1ab4bf0d-35dc-4b59-91f8-3f22d1ef6b55",
   "metadata": {
    "tags": [],
    "vscode": {
     "languageId": "r"
    }
   },
   "outputs": [
    {
     "data": {
      "text/html": [
       "193244"
      ],
      "text/latex": [
       "193244"
      ],
      "text/markdown": [
       "193244"
      ],
      "text/plain": [
       "[1] 193244"
      ]
     },
     "metadata": {},
     "output_type": "display_data"
    }
   ],
   "source": [
    "# A little over half (51.6%) of the unknown country values have a known nationality value\n",
    "\n",
    "nrow(unknown_cty_df_compare)"
   ]
  },
  {
   "cell_type": "code",
   "execution_count": 37,
   "id": "dfa64b96-0097-45c4-89ed-0184e6a476d2",
   "metadata": {
    "tags": [],
    "vscode": {
     "languageId": "r"
    }
   },
   "outputs": [],
   "source": [
    "# Create temp dfs of 1) unknown countries in met_df and 2) a linking table based on 'countries' df\n",
    "# These will be used for a left join on 'Country_2'\n",
    "\n",
    "nat_name_temp <- unknown_cty_df_compare %>%\n",
    "    select(Object_Number, Nationality_2)\n",
    "\n",
    "cty_link_temp <- countries %>%\n",
    "    select(Country_2, Nationality_2)\n"
   ]
  },
  {
   "cell_type": "code",
   "execution_count": 38,
   "id": "e84b89ec-f6d0-4a33-ad6a-b173be59d6aa",
   "metadata": {
    "tags": [],
    "vscode": {
     "languageId": "r"
    }
   },
   "outputs": [],
   "source": [
    "# Merge unknown_df_nat with countries on Country_2\n",
    "\n",
    "cty_nat_id <- merge(x=nat_name_temp, y=cty_link_temp, by='Nationality_2', x.all=TRUE)"
   ]
  },
  {
   "cell_type": "code",
   "execution_count": 39,
   "id": "e370e7cf-cef4-46f4-b76e-2709ec2841ed",
   "metadata": {
    "tags": [],
    "vscode": {
     "languageId": "r"
    }
   },
   "outputs": [
    {
     "data": {
      "text/html": [
       "193210"
      ],
      "text/latex": [
       "193210"
      ],
      "text/markdown": [
       "193210"
      ],
      "text/plain": [
       "[1] 193210"
      ]
     },
     "metadata": {},
     "output_type": "display_data"
    }
   ],
   "source": [
    "# All but 22 records updated\n",
    "\n",
    "nrow(cty_nat_id)"
   ]
  },
  {
   "cell_type": "code",
   "execution_count": 40,
   "id": "f1d5202e-1c14-405b-b7b6-2d47c8e69f12",
   "metadata": {
    "vscode": {
     "languageId": "r"
    }
   },
   "outputs": [],
   "source": [
    "# Create new df with only Object_Number & Country_2 columns for use in left join below\n",
    "\n",
    "cty_new <- cty_nat_id %>%\n",
    "    select(Object_Number, Country_2) %>%\n",
    "    rename('Country_3' = 'Country_2')"
   ]
  },
  {
   "cell_type": "code",
   "execution_count": 41,
   "id": "addebe49-b921-4817-afa6-6f992b258c5b",
   "metadata": {
    "tags": [],
    "vscode": {
     "languageId": "r"
    }
   },
   "outputs": [],
   "source": [
    "# Left Join met_df to cty_new to add Country_3 column\n",
    "\n",
    "met_df2 <- met_df %>% left_join(cty_new,\n",
    "           by=c('Object_Number'))"
   ]
  },
  {
   "cell_type": "markdown",
   "id": "3a4e10c5-6ab2-4ba8-a19e-57f6aa74dda1",
   "metadata": {
    "tags": []
   },
   "source": [
    "### **Step 2: Add missing Country_2 values with existing Country_2 values**"
   ]
  },
  {
   "cell_type": "code",
   "execution_count": 42,
   "id": "d134a407-de0c-4c7a-a434-56662029911f",
   "metadata": {
    "tags": [],
    "vscode": {
     "languageId": "r"
    }
   },
   "outputs": [],
   "source": [
    "# Create df with unknown nationalities\n",
    "\n",
    "unknown_nat_df <- met_df[met_df$Nationality_2 == 'unknown',]"
   ]
  },
  {
   "cell_type": "code",
   "execution_count": 43,
   "id": "deee5dcd-cb66-4031-834c-bfb107ae80d3",
   "metadata": {
    "tags": [],
    "vscode": {
     "languageId": "r"
    }
   },
   "outputs": [],
   "source": [
    "# Create df from rows in unknown_df with known countries\n",
    "# Object_Number will be used to map new Nationality_2 values back to met_df\n",
    "\n",
    "unknown_nat_df_compare <- unknown_nat_df[unknown_nat_df$Country_2 != 'unknown',]"
   ]
  },
  {
   "cell_type": "code",
   "execution_count": 44,
   "id": "dce05b7c-e42b-4c17-a4ef-a5bb867097ff",
   "metadata": {
    "tags": [],
    "vscode": {
     "languageId": "r"
    }
   },
   "outputs": [],
   "source": [
    "# Create temp dfs of 1) unknown nationalities in met_df and 2) a linking table based on 'countries' df\n",
    "# These will be used for a left join on 'Country_2'\n",
    "\n",
    "cty_name_temp <- unknown_nat_df_compare %>%\n",
    "    select(Object_Number, Country_2)\n",
    "\n",
    "nat_link_temp <- countries %>%\n",
    "    select(Country_2, Nationality_2)"
   ]
  },
  {
   "cell_type": "code",
   "execution_count": 45,
   "id": "bf7d49ab-5a7b-4cb7-8249-0ee485206daf",
   "metadata": {
    "tags": [],
    "vscode": {
     "languageId": "r"
    }
   },
   "outputs": [],
   "source": [
    "# Merge unknown_df_nat with countries on Country_2\n",
    "\n",
    "nat_cty_id <- merge(x=cty_name_temp, y=nat_link_temp, by='Country_2', x.all=TRUE)"
   ]
  },
  {
   "cell_type": "code",
   "execution_count": 46,
   "id": "80010fcb-8e6d-40f9-86b6-f463c5f194c7",
   "metadata": {
    "tags": [],
    "vscode": {
     "languageId": "r"
    }
   },
   "outputs": [
    {
     "data": {
      "text/html": [
       "71438"
      ],
      "text/latex": [
       "71438"
      ],
      "text/markdown": [
       "71438"
      ],
      "text/plain": [
       "[1] 71438"
      ]
     },
     "metadata": {},
     "output_type": "display_data"
    }
   ],
   "source": [
    "# 71438 records updated (all but 114)\n",
    "\n",
    "nrow(nat_cty_id)"
   ]
  },
  {
   "cell_type": "code",
   "execution_count": 47,
   "id": "ffaccf0d-c42e-40e8-912d-8c294045ca4b",
   "metadata": {
    "tags": [],
    "vscode": {
     "languageId": "r"
    }
   },
   "outputs": [],
   "source": [
    "# Create new df with only Object_Number & Nationality_2 columns for use in left join below\n",
    "\n",
    "nat_new <- nat_cty_id %>%\n",
    "    select(Object_Number, Nationality_2) %>%\n",
    "    rename('Nationality_3' = 'Nationality_2')"
   ]
  },
  {
   "cell_type": "code",
   "execution_count": 64,
   "id": "fc1da878-7cb9-4a41-8f0d-de152869b715",
   "metadata": {
    "tags": [],
    "vscode": {
     "languageId": "r"
    }
   },
   "outputs": [],
   "source": [
    "# Left Join met_df2 to nat_new to add Country_3 column\n",
    "\n",
    "met_df3 <- met_df2 %>% left_join(nat_new, \n",
    "           by=c('Object_Number'))"
   ]
  },
  {
   "cell_type": "markdown",
   "id": "5f3489a9-2782-4c45-88db-c4114eef3786",
   "metadata": {
    "tags": []
   },
   "source": [
    "### **Step 3: Use Department Value if both Country & Nationality 'unknown'**"
   ]
  },
  {
   "cell_type": "code",
   "execution_count": null,
   "id": "9c888616-189a-42fa-9b44-0e087a1c4cee",
   "metadata": {
    "tags": [],
    "vscode": {
     "languageId": "r"
    }
   },
   "outputs": [],
   "source": [
    "# met_df$Country_2 & met_df$Country_2 values BOTH == 'unknown'\n",
    "\n",
    "# List all Department values in met_df\n",
    "\n",
    "print(table(met_df$Department))"
   ]
  },
  {
   "cell_type": "code",
   "execution_count": 65,
   "id": "939eaf73-d2b6-4420-b495-8faa37f2bacb",
   "metadata": {
    "tags": [],
    "vscode": {
     "languageId": "r"
    }
   },
   "outputs": [],
   "source": [
    "# Filter by Department: objects missing country and/or nationality values\n",
    "\n",
    "# American\n",
    "dept_us_df <- met_df[met_df$Department == 'American Decorative Arts' | met_df$Department == 'American Paintings and Sculpture',]\n",
    "dept_us_unknown_df <- dept_us_df[dept_us_df$Country_2 == 'unknown' & dept_us_df$Nationality_2 == 'unknown',]\n",
    "\n",
    "dept_us_unknown_df$Country_3 <- rep(c(\"united states\"), times=nrow(dept_us_unknown_df))\n",
    "dept_us_unknown_df$Nationality_3 <- rep(c(\"american\"), times=nrow(dept_us_unknown_df))\n",
    "\n",
    "\n",
    "# Egyptian\n",
    "dept_eg_df <- met_df[met_df$Department == 'Egyptian Art',]\n",
    "dept_eg_unknown_df <- dept_eg_df[dept_eg_df$Country_2 == 'unknown' & dept_eg_df$Nationality_2 == 'unknown',]\n",
    "\n",
    "dept_eg_unknown_df$Country_3 <- rep(c(\"egypt\"), times=nrow(dept_eg_unknown_df))\n",
    "dept_eg_unknown_df$Nationality_3 <- rep(c(\"egyptian\"), times=nrow(dept_eg_unknown_df))"
   ]
  },
  {
   "cell_type": "code",
   "execution_count": 66,
   "id": "000d0072-7e94-4a38-b5bf-fefd7a92f803",
   "metadata": {
    "tags": [],
    "vscode": {
     "languageId": "r"
    }
   },
   "outputs": [],
   "source": [
    "# Combine the new dfs\n",
    "\n",
    "dept_known_df <- rbind(dept_us_unknown_df, dept_eg_unknown_df)"
   ]
  },
  {
   "cell_type": "code",
   "execution_count": 67,
   "id": "e5f159c8-5dba-45b6-8d99-5507f2176c72",
   "metadata": {
    "vscode": {
     "languageId": "r"
    }
   },
   "outputs": [],
   "source": [
    "# Create temp df for combining country & nationality values with met_df4 below\n",
    "\n",
    "dept_new <- dept_known_df %>%\n",
    "    select(Object_Number, Country_3, Nationality_3) "
   ]
  },
  {
   "cell_type": "code",
   "execution_count": 68,
   "id": "36c8577c-5f83-44c3-892c-e5ba46c2707c",
   "metadata": {
    "vscode": {
     "languageId": "r"
    }
   },
   "outputs": [],
   "source": [
    "# Create met_df4 from met_df3\n",
    "\n",
    "met_df4 <- met_df3"
   ]
  },
  {
   "cell_type": "code",
   "execution_count": 69,
   "id": "039e1dca-6059-4877-a522-7e04d854eefa",
   "metadata": {
    "vscode": {
     "languageId": "r"
    }
   },
   "outputs": [
    {
     "name": "stderr",
     "output_type": "stream",
     "text": [
      "Warning message in met_df4$Country_3[met_df4$Object_Number %in% dept_new$Object_Number] <- dept_new$Country_3[dept_new$Object_Number %in% :\n",
      "“number of items to replace is not a multiple of replacement length”\n",
      "Warning message in met_df4$Nationality_3[met_df4$Object_Number %in% dept_new$Object_Number] <- dept_new$Nationality_3[dept_new$Object_Number %in% :\n",
      "“number of items to replace is not a multiple of replacement length”\n"
     ]
    }
   ],
   "source": [
    "# Combine dept_new df with met_df4\n",
    "\n",
    "met_df4$Country_3[met_df4$Object_Number %in% dept_new$Object_Number] <- dept_new$Country_3[dept_new$Object_Number %in% met_df4$Object_Number]\n",
    "met_df4$Nationality_3[met_df4$Object_Number %in% dept_new$Object_Number] <- dept_new$Nationality_3[dept_new$Object_Number %in% met_df4$Object_Number]"
   ]
  },
  {
   "cell_type": "markdown",
   "id": "f3983920-3b08-4570-ae58-e1e2bb942062",
   "metadata": {
    "tags": []
   },
   "source": [
    "### **Step 4: Replace 'unknown' values in Country_2 and Nationality_2 Columns**"
   ]
  },
  {
   "cell_type": "code",
   "execution_count": 100,
   "id": "eee10c09-95c6-4df8-8fbc-d2afb8def4c9",
   "metadata": {
    "tags": [],
    "vscode": {
     "languageId": "r"
    }
   },
   "outputs": [],
   "source": [
    "# Create met_df4 from met_df3\n",
    "\n",
    "met_df5 <- met_df4"
   ]
  },
  {
   "cell_type": "code",
   "execution_count": 101,
   "id": "eda92b8f-37d3-4485-ad9e-dba1554bfead",
   "metadata": {
    "tags": [],
    "vscode": {
     "languageId": "r"
    }
   },
   "outputs": [],
   "source": [
    "# Set 'unknown' values in Country_2 and Nationality_2 to NA \n",
    "# to prepare to coalesce with Country_3 and Nationality_3, respectively\n",
    "\n",
    "met_df5$Country_2[met_df5$Country_2 == \"unknown\"] <- NA\n",
    "\n",
    "met_df5$Nationality_2[met_df5$Nationality_2 == \"unknown\"] <- NA"
   ]
  },
  {
   "cell_type": "code",
   "execution_count": 102,
   "id": "a00cc29e-289c-41b9-b86e-3cb9e9ce7818",
   "metadata": {
    "tags": [],
    "vscode": {
     "languageId": "r"
    }
   },
   "outputs": [],
   "source": [
    "# Coalesce Columns\n",
    "\n",
    "# Country\n",
    "met_df5$Country_WGL <- coalesce(met_df5$Country_2, met_df5$Country_3)\n",
    "\n",
    "# Nationality\n",
    "met_df5$Nationality_WGL <- coalesce(met_df5$Nationality_2, met_df5$Nationality_3)"
   ]
  },
  {
   "cell_type": "code",
   "execution_count": 103,
   "id": "8007ef77-b16d-4317-b9eb-baa06d269e89",
   "metadata": {
    "tags": [],
    "vscode": {
     "languageId": "r"
    }
   },
   "outputs": [],
   "source": [
    "# Create new df from cleaned Met data\n",
    "\n",
    "met_clean_df <- met_df5 %>%\n",
    "    select(Object_Number, Object_Name, Title, \n",
    "           Department, Period, Object_Year, \n",
    "           # Geography_Type_WGL, Culture_WGL, \n",
    "           Nationality_WGL, Country_WGL, Region, Sub_Region, \n",
    "           Artist_Name, Medium, Classification, Dimensions, Credit) %>%\n",
    "    rename(\n",
    "        # \"Geography_Type_WGL\" = \"Geography_Type\", \"Culture_WGL\" = \"Culture\", \n",
    "           \"Country\" = \"Country_WGL\", \"Nationality\" = \"Nationality_WGL\")"
   ]
  },
  {
   "cell_type": "code",
   "execution_count": 104,
   "id": "53f39cb3-b723-42fd-b1c7-3e9a1a9fac81",
   "metadata": {
    "tags": [],
    "vscode": {
     "languageId": "r"
    }
   },
   "outputs": [],
   "source": [
    "# Reassign 'unknown' to NA Country and Nationality values (improves tracking and avoids errors)\n",
    "\n",
    "# Country\n",
    "met_clean_df$Country[is.na(met_clean_df$Country)] <- \"unknown\"\n",
    "\n",
    "# Nationality\n",
    "met_clean_df$Nationality[is.na(met_clean_df$Nationality)] <- \"unknown\""
   ]
  },
  {
   "cell_type": "code",
   "execution_count": 62,
   "id": "3ee20c36-2de5-4167-b6ce-d7518d041bb5",
   "metadata": {
    "tags": [],
    "vscode": {
     "languageId": "r"
    }
   },
   "outputs": [
    {
     "data": {
      "text/html": [
       "450323"
      ],
      "text/latex": [
       "450323"
      ],
      "text/markdown": [
       "450323"
      ],
      "text/plain": [
       "[1] 450323"
      ]
     },
     "metadata": {},
     "output_type": "display_data"
    }
   ],
   "source": [
    "nrow(met_clean_df)"
   ]
  },
  {
   "cell_type": "code",
   "execution_count": 105,
   "id": "ca973429-7807-45f9-a8b4-8b75f5a31d1a",
   "metadata": {
    "tags": [],
    "vscode": {
     "languageId": "r"
    }
   },
   "outputs": [
    {
     "data": {
      "text/html": [
       "<table class=\"dataframe\">\n",
       "<caption>A data.frame: 5000 × 15</caption>\n",
       "<thead>\n",
       "\t<tr><th></th><th scope=col>Object_Number</th><th scope=col>Object_Name</th><th scope=col>Title</th><th scope=col>Department</th><th scope=col>Period</th><th scope=col>Object_Year</th><th scope=col>Nationality</th><th scope=col>Country</th><th scope=col>Region</th><th scope=col>Sub_Region</th><th scope=col>Artist_Name</th><th scope=col>Medium</th><th scope=col>Classification</th><th scope=col>Dimensions</th><th scope=col>Credit</th></tr>\n",
       "\t<tr><th></th><th scope=col>&lt;chr&gt;</th><th scope=col>&lt;chr&gt;</th><th scope=col>&lt;chr&gt;</th><th scope=col>&lt;chr&gt;</th><th scope=col>&lt;chr&gt;</th><th scope=col>&lt;int&gt;</th><th scope=col>&lt;chr&gt;</th><th scope=col>&lt;chr&gt;</th><th scope=col>&lt;chr&gt;</th><th scope=col>&lt;chr&gt;</th><th scope=col>&lt;chr&gt;</th><th scope=col>&lt;chr&gt;</th><th scope=col>&lt;chr&gt;</th><th scope=col>&lt;chr&gt;</th><th scope=col>&lt;chr&gt;</th></tr>\n",
       "</thead>\n",
       "<tbody>\n",
       "\t<tr><th scope=row>1</th><td>1979.486.1</td><td>Coin    </td><td>One-dollar Liberty Head Coin           </td><td>American Decorative Arts        </td><td></td><td>1853</td><td>american  </td><td>united states</td><td></td><td></td><td>James Barton Longacre</td><td>Gold            </td><td>Metal </td><td>Dimensions unavailable  </td><td>Gift of Heinz L. Stoppelmann, 1979</td></tr>\n",
       "\t<tr><th scope=row>2</th><td>1980.264.5</td><td>Coin    </td><td>Ten-dollar Liberty Head Coin           </td><td>American Decorative Arts        </td><td></td><td>1901</td><td>american  </td><td>united states</td><td></td><td></td><td>Christian Gobrecht   </td><td>Gold            </td><td>Metal </td><td>Dimensions unavailable  </td><td>Gift of Heinz L. Stoppelmann, 1980</td></tr>\n",
       "\t<tr><th scope=row>3</th><td>67.265.9  </td><td>Coin    </td><td>Two-and-a-Half Dollar Coin             </td><td>American Decorative Arts        </td><td></td><td>1927</td><td>american  </td><td>united states</td><td></td><td></td><td>                     </td><td>Gold            </td><td>Metal </td><td>Diam. 11/16 in. (1.7 cm)</td><td>Gift of C. Ruxton Love, Jr., 1967 </td></tr>\n",
       "\t<tr><th scope=row>4</th><td>67.265.10 </td><td>Coin    </td><td>Two-and-a-Half Dollar Coin             </td><td>American Decorative Arts        </td><td></td><td>1927</td><td>american  </td><td>united states</td><td></td><td></td><td>                     </td><td>Gold            </td><td>Metal </td><td>Diam. 11/16 in. (1.7 cm)</td><td>Gift of C. Ruxton Love, Jr., 1967 </td></tr>\n",
       "\t<tr><th scope=row>5</th><td>67.265.11 </td><td>Coin    </td><td>Two-and-a-Half Dollar Coin             </td><td>American Decorative Arts        </td><td></td><td>1927</td><td>american  </td><td>united states</td><td></td><td></td><td>                     </td><td>Gold            </td><td>Metal </td><td>Diam. 11/16 in. (1.7 cm)</td><td>Gift of C. Ruxton Love, Jr., 1967 </td></tr>\n",
       "\t<tr><th scope=row>6</th><td>67.265.12 </td><td>Coin    </td><td>Two-and-a-Half Dollar Coin             </td><td>American Decorative Arts        </td><td></td><td>1927</td><td>american  </td><td>united states</td><td></td><td></td><td>                     </td><td>Gold            </td><td>Metal </td><td>Diam. 11/16 in. (1.7 cm)</td><td>Gift of C. Ruxton Love, Jr., 1967 </td></tr>\n",
       "\t<tr><th scope=row>7</th><td>67.265.13 </td><td>Coin    </td><td>Two-and-a-Half Dollar Coin             </td><td>American Decorative Arts        </td><td></td><td>1927</td><td>american  </td><td>united states</td><td></td><td></td><td>                     </td><td>Gold            </td><td>Metal </td><td>Diam. 11/16 in. (1.7 cm)</td><td>Gift of C. Ruxton Love, Jr., 1967 </td></tr>\n",
       "\t<tr><th scope=row>8</th><td>67.265.14 </td><td>Coin    </td><td>Two-and-a-Half Dollar Coin             </td><td>American Decorative Arts        </td><td></td><td>1927</td><td>american  </td><td>united states</td><td></td><td></td><td>                     </td><td>Gold            </td><td>Metal </td><td>Diam. 11/16 in. (1.7 cm)</td><td>Gift of C. Ruxton Love, Jr., 1967 </td></tr>\n",
       "\t<tr><th scope=row>9</th><td>67.265.15 </td><td>Coin    </td><td>Two-and-a-Half Dollar Coin             </td><td>American Decorative Arts        </td><td></td><td>1927</td><td>american  </td><td>united states</td><td></td><td></td><td>                     </td><td>Gold            </td><td>Metal </td><td>Diam. 11/16 in. (1.7 cm)</td><td>Gift of C. Ruxton Love, Jr., 1967 </td></tr>\n",
       "\t<tr><th scope=row>10</th><td>1979.486.3</td><td>Coin    </td><td>Two-and-a-half-dollar Indian Head Coin </td><td>American Decorative Arts        </td><td></td><td>1912</td><td>american  </td><td>united states</td><td></td><td></td><td>Bela Lyon Pratt      </td><td>Gold            </td><td>Metal </td><td>Dimensions unavailable  </td><td>Gift of Heinz L. Stoppelmann, 1979</td></tr>\n",
       "\t<tr><th scope=row>11</th><td>1979.486.2</td><td>Coin    </td><td>Two-and-a-half-dollar Liberty Head Coin</td><td>American Decorative Arts        </td><td></td><td>1907</td><td>american  </td><td>united states</td><td></td><td></td><td>Christian Gobrecht   </td><td>Gold            </td><td>Metal </td><td>Dimensions unavailable  </td><td>Gift of Heinz L. Stoppelmann, 1979</td></tr>\n",
       "\t<tr><th scope=row>12</th><td>1979.486.7</td><td>Coin    </td><td>Twenty-dollar Liberty Head Coin        </td><td>American Decorative Arts        </td><td></td><td>1876</td><td>american  </td><td>united states</td><td></td><td></td><td>James Barton Longacre</td><td>Gold            </td><td>Metal </td><td>Dimensions unavailable  </td><td>Gift of Heinz L. Stoppelmann, 1979</td></tr>\n",
       "\t<tr><th scope=row>13</th><td>1979.486.4</td><td>Coin    </td><td>Five-dollar Indian Head Coin           </td><td>American Decorative Arts        </td><td></td><td>1910</td><td>american  </td><td>united states</td><td></td><td></td><td>Bela Lyon Pratt      </td><td>Gold            </td><td>Metal </td><td>Dimensions unavailable  </td><td>Gift of Heinz L. Stoppelmann, 1979</td></tr>\n",
       "\t<tr><th scope=row>14</th><td>1979.486.5</td><td>Coin    </td><td>Five-dollar Liberty Head Coin          </td><td>American Decorative Arts        </td><td></td><td>1907</td><td>american  </td><td>united states</td><td></td><td></td><td>Christian Gobrecht   </td><td>Gold            </td><td>Metal </td><td>Dimensions unavailable  </td><td>Gift of Heinz L. Stoppelmann, 1979</td></tr>\n",
       "\t<tr><th scope=row>15</th><td>16.74.49  </td><td>Coin    </td><td>Coin, 1/2 Real                         </td><td>American Paintings and Sculpture</td><td></td><td>1700</td><td>mexican   </td><td>mexico       </td><td></td><td></td><td>                     </td><td>Silver          </td><td>Silver</td><td>Diam. 1/2 in. (1.3 cm)  </td><td>Gift of Mrs. Russell Sage, 1916   </td></tr>\n",
       "\t<tr><th scope=row>16</th><td>16.74.27  </td><td>Peso    </td><td>Coin, 1/4 Peso                         </td><td>American Paintings and Sculpture</td><td></td><td>1900</td><td>mexican   </td><td>mexico       </td><td></td><td></td><td>Mexican Artist       </td><td>Bronze or copper</td><td>Metal </td><td>Diam. 1 1/8 in. (2.9 cm)</td><td>Gift of Mrs. Russell Sage, 1916   </td></tr>\n",
       "\t<tr><th scope=row>17</th><td>16.74.28  </td><td>Peso    </td><td>Coin, 1/4 Peso                         </td><td>American Paintings and Sculpture</td><td></td><td>1867</td><td>mexican   </td><td>mexico       </td><td></td><td></td><td>Mexican Artist       </td><td>Bronze or copper</td><td>Metal </td><td>Diam. 1 1/8 in. (2.9 cm)</td><td>Gift of Mrs. Russell Sage, 1916   </td></tr>\n",
       "\t<tr><th scope=row>18</th><td>16.74.29  </td><td>Peso    </td><td>Coin, 1/4 Peso                         </td><td>American Paintings and Sculpture</td><td></td><td>1860</td><td>mexican   </td><td>mexico       </td><td></td><td></td><td>Mexican Artist       </td><td>Bronze or copper</td><td>Metal </td><td>Diam. 1 1/8 in. (2.9 cm)</td><td>Gift of Mrs. Russell Sage, 1916   </td></tr>\n",
       "\t<tr><th scope=row>19</th><td>16.74.30  </td><td>Peso    </td><td>Coin, 1/4 Peso                         </td><td>American Paintings and Sculpture</td><td></td><td>1859</td><td>mexican   </td><td>mexico       </td><td></td><td></td><td>                     </td><td>Bronze or copper</td><td>Metal </td><td>Diam. 1 1/8 in. (2.9 cm)</td><td>Gift of Mrs. Russell Sage, 1916   </td></tr>\n",
       "\t<tr><th scope=row>20</th><td>16.74.31  </td><td>Peso    </td><td>Coin, 1/4 Peso                         </td><td>American Paintings and Sculpture</td><td></td><td>1860</td><td>mexican   </td><td>mexico       </td><td></td><td></td><td>                     </td><td>Bronze or copper</td><td>Metal </td><td>Diam. 1 1/8 in. (2.9 cm)</td><td>Gift of Mrs. Russell Sage, 1916   </td></tr>\n",
       "\t<tr><th scope=row>21</th><td>16.74.32  </td><td>Peso    </td><td>Coin, 1/4 Peso                         </td><td>American Paintings and Sculpture</td><td></td><td>1859</td><td>mexican   </td><td>mexico       </td><td></td><td></td><td>                     </td><td>Bronze or copper</td><td>Metal </td><td>Diam. 1 1/8 in. (2.9 cm)</td><td>Gift of Mrs. Russell Sage, 1916   </td></tr>\n",
       "\t<tr><th scope=row>22</th><td>16.74.43  </td><td>Coin    </td><td>Coin, 1/4 Real                         </td><td>American Paintings and Sculpture</td><td></td><td>1881</td><td>guatemalan</td><td>guatemala    </td><td></td><td></td><td>                     </td><td>Silver          </td><td>Silver</td><td>Diam. 1/2 in. (1.3 cm)  </td><td>Gift of Mrs. Russell Sage, 1916   </td></tr>\n",
       "\t<tr><th scope=row>23</th><td>16.74.44  </td><td>Coin    </td><td>Coin, 1/4 Real                         </td><td>American Paintings and Sculpture</td><td></td><td>1878</td><td>guatemalan</td><td>guatemala    </td><td></td><td></td><td>                     </td><td>Silver          </td><td>Silver</td><td>Diam. 1/2 in. (1.3 cm)  </td><td>Gift of Mrs. Russell Sage, 1916   </td></tr>\n",
       "\t<tr><th scope=row>24</th><td>16.74.33  </td><td>Centavos</td><td>Coin, 10 Centavos                      </td><td>American Paintings and Sculpture</td><td></td><td>1870</td><td>mexican   </td><td>mexico       </td><td></td><td></td><td>                     </td><td>Nickel          </td><td>Metal </td><td>Diam. 3/4 in. (1.9 cm)  </td><td>Gift of Mrs. Russell Sage, 1916   </td></tr>\n",
       "\t<tr><th scope=row>25</th><td>16.74.34  </td><td>Centavos</td><td>Coin, 10 Centavos                      </td><td>American Paintings and Sculpture</td><td></td><td>1870</td><td>mexican   </td><td>mexico       </td><td></td><td></td><td>                     </td><td>Nickel          </td><td>Metal </td><td>Diam. 3/4 in. (1.9 cm)  </td><td>Gift of Mrs. Russell Sage, 1916   </td></tr>\n",
       "\t<tr><th scope=row>26</th><td>16.74.35  </td><td>Centavos</td><td>Coin, 10 Centavos                      </td><td>American Paintings and Sculpture</td><td></td><td>1870</td><td>mexican   </td><td>mexico       </td><td></td><td></td><td>                     </td><td>Nickel          </td><td>Metal </td><td>Diam. 3/4 in. (1.9 cm)  </td><td>Gift of Mrs. Russell Sage, 1916   </td></tr>\n",
       "\t<tr><th scope=row>27</th><td>16.74.36  </td><td>Centavos</td><td>Coin, 10 Centavos                      </td><td>American Paintings and Sculpture</td><td></td><td>1870</td><td>mexican   </td><td>mexico       </td><td></td><td></td><td>                     </td><td>Nickel          </td><td>Metal </td><td>Diam. 3/4 in. (1.9 cm)  </td><td>Gift of Mrs. Russell Sage, 1916   </td></tr>\n",
       "\t<tr><th scope=row>28</th><td>16.74.38  </td><td>Centavos</td><td>Coin, 10 Centavos                      </td><td>American Paintings and Sculpture</td><td></td><td>1870</td><td>mexican   </td><td>mexico       </td><td></td><td></td><td>                     </td><td>Nickel          </td><td>Metal </td><td>Diam. 3/4 in. (1.9 cm)  </td><td>Gift of Mrs. Russell Sage, 1916   </td></tr>\n",
       "\t<tr><th scope=row>29</th><td>16.74.39  </td><td>Centavos</td><td>Coin, 10 Centavos                      </td><td>American Paintings and Sculpture</td><td></td><td>1870</td><td>mexican   </td><td>mexico       </td><td></td><td></td><td>                     </td><td>Nickel          </td><td>Metal </td><td>Diam. 3/4 in. (1.9 cm)  </td><td>Gift of Mrs. Russell Sage, 1916   </td></tr>\n",
       "\t<tr><th scope=row>30</th><td>16.74.37  </td><td>Centavos</td><td>Coin, 10 Centavos                      </td><td>American Paintings and Sculpture</td><td></td><td>1885</td><td>mexican   </td><td>mexico       </td><td></td><td></td><td>                     </td><td>Nickel          </td><td>Metal </td><td>Diam. 3/4 in. (1.9 cm)  </td><td>Gift of Mrs. Russell Sage, 1916   </td></tr>\n",
       "\t<tr><th scope=row>⋮</th><td>⋮</td><td>⋮</td><td>⋮</td><td>⋮</td><td>⋮</td><td>⋮</td><td>⋮</td><td>⋮</td><td>⋮</td><td>⋮</td><td>⋮</td><td>⋮</td><td>⋮</td><td>⋮</td><td>⋮</td></tr>\n",
       "\t<tr><th scope=row>4971</th><td>43.162.8  </td><td>Mug </td><td>Mug </td><td>American Decorative Arts</td><td></td><td>1819</td><td>american</td><td>united states </td><td></td><td></td><td>Parks Boyd                           </td><td>Pewter          </td><td>Metal </td><td>H. 5 3/4 in. (14.6 cm)                                                                                                                 </td><td>Gift of Joseph France, 1943                                 </td></tr>\n",
       "\t<tr><th scope=row>4972</th><td>33.120.263</td><td>Cann</td><td>Cann</td><td>American Decorative Arts</td><td></td><td>1775</td><td>american</td><td>united states </td><td></td><td></td><td>Daniel Boyer                         </td><td>Silver          </td><td>Silver</td><td>Overall: 5 x 5 3/8 in. (12.7 x 13.7 cm); 11 oz. 11 dwt. (358.5 g)\n",
       "Lip: Diam. 3 3/8 in. (8.6 cm)\n",
       "Base: Diam. 3 3/8 in. (8.6 cm)       </td><td>Bequest of Alphonso T. Clearwater, 1933                     </td></tr>\n",
       "\t<tr><th scope=row>4973</th><td>46.140.809</td><td>Mug </td><td>Mug </td><td>American Decorative Arts</td><td></td><td>1870</td><td>american</td><td>united states </td><td></td><td></td><td>Bryce, Walker and Company            </td><td>Pressed glass   </td><td>Glass </td><td>H. 3 5/8 in. (9.2 cm); Diam. 3 5/16 in. (8.4 cm)                                                                                       </td><td>Gift of Mrs. Emily Winthrop Miles, 1946                     </td></tr>\n",
       "\t<tr><th scope=row>4974</th><td>33.120.264</td><td>Cann</td><td>Cann</td><td>American Decorative Arts</td><td></td><td>1760</td><td>american</td><td>united states </td><td></td><td></td><td>John Coverly                         </td><td>Silver          </td><td>Silver</td><td>Overall: 5 1/8 x 5 1/16 in. (13 x 12.9 cm); 9 oz. 8 dwt. (292.3 g)\n",
       "Lip: Diam. 3 1/8 in. (7.9 cm)\n",
       "Base: Diam. 3 1/16 in. (7.8 cm)     </td><td>Bequest of Alphonso T. Clearwater, 1933                     </td></tr>\n",
       "\t<tr><th scope=row>4975</th><td>43.162.13 </td><td>Mug </td><td>Mug </td><td>American Decorative Arts</td><td></td><td>1840</td><td>american</td><td>united states </td><td></td><td></td><td>Daniel Curtiss                       </td><td>Pewter          </td><td>Metal </td><td>H. 3 1/8 in. (7.9 cm)                                                                                                                  </td><td>Gift of Joseph France, 1943                                 </td></tr>\n",
       "\t<tr><th scope=row>4976</th><td>41.34.24  </td><td>Mug </td><td>Mug </td><td>American Decorative Arts</td><td></td><td>1816</td><td>american</td><td>united states </td><td></td><td></td><td>Samuel Danforth                      </td><td>Pewter          </td><td>Metal </td><td>H. 3 1/4 in. (8.3 cm)                                                                                                                  </td><td>Gift of Mrs. J. Insley Blair, in memory of her husband, 1941</td></tr>\n",
       "\t<tr><th scope=row>4977</th><td>62.89.16  </td><td>Mug </td><td>Mug </td><td>American Decorative Arts</td><td></td><td>1816</td><td>american</td><td>united states </td><td></td><td></td><td>Samuel Danforth                      </td><td>Pewter          </td><td>Metal </td><td>H. 2 in. (5.1 cm)                                                                                                                      </td><td>Gift of Mrs. Stephen S. FitzGerald, 1962                    </td></tr>\n",
       "\t<tr><th scope=row>4978</th><td>62.89.17  </td><td>Mug </td><td>Mug </td><td>American Decorative Arts</td><td></td><td>1816</td><td>american</td><td>united states </td><td></td><td></td><td>Samuel Danforth                      </td><td>Pewter          </td><td>Metal </td><td>H. 2 1/2 in. (6.4 cm)                                                                                                                  </td><td>Gift of Mrs. Stephen S. FitzGerald, 1962                    </td></tr>\n",
       "\t<tr><th scope=row>4979</th><td>33.120.265</td><td>Cann</td><td>Cann</td><td>American Decorative Arts</td><td></td><td>1796</td><td>american</td><td>united states </td><td></td><td></td><td>Cary Dunn                            </td><td>Silver          </td><td>Silver</td><td>Overall: 3 1/2 x 3 7/8 in. (8.9 x 9.8 cm); 3 oz. 2 dwt. (95.8 g)\n",
       "Lip: Diam. 2 5/8 in. (6.7 cm)\n",
       "Foot: Diam. 2 3/8 in. (6 cm)          </td><td>Bequest of Alphonso T. Clearwater, 1933                     </td></tr>\n",
       "\t<tr><th scope=row>4980</th><td>33.120.18 </td><td>Cann</td><td>Cann</td><td>American Decorative Arts</td><td></td><td>1800</td><td>american</td><td>united states </td><td></td><td></td><td>Daniel Dupuy                         </td><td>Silver          </td><td>Silver</td><td>Overall: 6 5/8 x 6 1/2 in. (16.8 x 16.5 cm); 22 oz. 6 dwt. (692.9 g)\n",
       "Lip: Diam. 4 in. (10.2 cm)\n",
       "Base: Diam. 4 1/2 in. (11.4 cm)      </td><td>Bequest of Alphonso T. Clearwater, 1933                     </td></tr>\n",
       "\t<tr><th scope=row>4981</th><td>33.120.285</td><td>Cann</td><td>Cann</td><td>American Decorative Arts</td><td></td><td>1750</td><td>american</td><td>united states </td><td></td><td></td><td>Peter Van Dyck                       </td><td>Silver          </td><td>Silver</td><td>Overall: 4 5/8 x 4 7/8 in. (11.7 x 12.4 cm); 10 oz. 15 dwt. (335.1 g)\n",
       "Lip: Diam. 3 1/8 in. (7.9 cm)\n",
       "Foot: Diam. 2 7/8 in. (7.3 cm)   </td><td>Bequest of Alphonso T. Clearwater, 1933                     </td></tr>\n",
       "\t<tr><th scope=row>4982</th><td>33.120.286</td><td>Cann</td><td>Cann</td><td>American Decorative Arts</td><td></td><td>1770</td><td>american</td><td>united states </td><td></td><td></td><td>Richard Van Dyck                     </td><td>Silver          </td><td>Silver</td><td>Overall: 4 13/16 x 4 15/16 in. (12.2 x 12.5 cm); 10 oz. 14 dwt. (333.5 g)\n",
       "Lip: Diam. 3 1/4 in. (8.3 cm)\n",
       "Foot: Diam. 3 in. (7.6 cm)   </td><td>Bequest of Alphonso T. Clearwater, 1933                     </td></tr>\n",
       "\t<tr><th scope=row>4983</th><td>24.109.20 </td><td>Cann</td><td>Cann</td><td>American Decorative Arts</td><td></td><td>1790</td><td>american</td><td>united states </td><td></td><td></td><td>Stephen Emery                        </td><td>Silver          </td><td>Silver</td><td>Overall: 5 13/16 x 5 5/8 in. (14.8 x 14.3 cm); 13 oz. 19 dwt. (435.3 g)\n",
       "Lip: Diam. 3 5/8 in. (9.2 cm)\n",
       "Base: Diam. 3 7/16 in. (8.7 cm)</td><td>Bequest of Charles Allen Munn, 1924                         </td></tr>\n",
       "\t<tr><th scope=row>4984</th><td>01.3.3    </td><td>Mug </td><td>Mug </td><td>American Decorative Arts</td><td></td><td>1750</td><td>american</td><td>united states </td><td></td><td></td><td>Jacob Ten Eyck                       </td><td>Silver          </td><td>Silver</td><td>Overall: 4 x 4 9/16 in. (10.2 x 11.6 cm); 9 oz. 12 dwt. (297.9 g)\n",
       "Lip: Diam. 2 15/16 in. (7.5 cm)\n",
       "Foot: Diam. 3 1/4 in. (8.3 cm)     </td><td>Gift of Mrs. Abraham Lansing, 1901                          </td></tr>\n",
       "\t<tr><th scope=row>4985</th><td>27.85.9   </td><td>Mug </td><td>Mug </td><td>American Decorative Arts</td><td></td><td>1705</td><td>american</td><td>united states </td><td></td><td></td><td>Koenraet Ten Eyck                    </td><td>Silver          </td><td>Silver</td><td>Overall: 3 5/8 x 5 1/4 in. (9.2 x 13.3 cm); 7 oz. 17 dwt. (244.7 g)\n",
       "Lip: Diam. 3 1/16 in. (7.8 cm)\n",
       "Base: Diam. 3 7/16 in. (8.7 cm)   </td><td>Gift of Annie Clarkson, 1927                                </td></tr>\n",
       "\t<tr><th scope=row>4986</th><td>33.120.266</td><td>Mug </td><td>Mug </td><td>American Decorative Arts</td><td></td><td>1825</td><td>american</td><td>united states </td><td></td><td></td><td>Abraham Fellows                      </td><td>Silver          </td><td>Silver</td><td>Overall: 4 1/8 x 4 1/4 in. (10.5 x 10.8 cm); 3 oz. 17 dwt. (119 g)\n",
       "Lip: Diam. 2 3/4 in. (7 cm)\n",
       "Base: Diam. 2 5/8 in. (6.7 cm)        </td><td>Bequest of Alphonso T. Clearwater, 1933                     </td></tr>\n",
       "\t<tr><th scope=row>4987</th><td>23.80.19  </td><td>Mug </td><td>Mug </td><td>American Decorative Arts</td><td></td><td>1750</td><td>american</td><td>united states </td><td></td><td></td><td>George Fielding                      </td><td>Silver          </td><td>Silver</td><td>Overall: 3 9/16 x 5 7/16 in. (9 x 13.8 cm); 8 oz. 13 dwt. (268.9 g)\n",
       "Lip: Diam. 3 5/16 in. (8.4 cm)\n",
       "Foot: Diam. 3 1/2 in. (8.9 cm)    </td><td>Gift of Mr. and Mrs. William A. Moore, 1923                 </td></tr>\n",
       "\t<tr><th scope=row>4988</th><td>33.120.267</td><td>Mug </td><td>Mug </td><td>American Decorative Arts</td><td></td><td>1830</td><td>american</td><td>united states </td><td></td><td></td><td>John W. Forbes                       </td><td>Silver          </td><td>Silver</td><td>Overall: 3 1/4 x 4 1/8 in. (8.3 x 10.5 cm);  4 oz. 4 dwt. (130 g)\n",
       "Lip: Diam. 2 5/8 in. (6.7 cm)\n",
       "Base: Diam. 2 11/16 in. (6.8 cm)     </td><td>Bequest of Alphonso T. Clearwater, 1933                     </td></tr>\n",
       "\t<tr><th scope=row>4989</th><td>46.140.861</td><td>Mug </td><td>Mug </td><td>American Decorative Arts</td><td></td><td>1876</td><td>american</td><td>united states </td><td></td><td></td><td>James Gillinder and Sons             </td><td>Pressed glass   </td><td>Glass </td><td>H. 3 1/2 in. (8.9 cm)                                                                                                                  </td><td>Gift of Mrs. Emily Winthrop Miles, 1946                     </td></tr>\n",
       "\t<tr><th scope=row>4990</th><td>52.101    </td><td>Mug </td><td>Mug </td><td>American Decorative Arts</td><td></td><td>1800</td><td>british </td><td>united kingdom</td><td></td><td></td><td>Thomas Gilpin                        </td><td>Silver          </td><td>Silver</td><td>Overall: 3 11/16 x 4 5/16 in. (9.4 x 11 cm); 7 oz. 11 dwt. (234.6 g)\n",
       "Lip: Diam. 2 9/16 in. (6.5 cm)\n",
       "Foot: Diam. 2 15/16 in. (7.5 cm) </td><td>Posthumous Gift of Gulian Verplanck Quillard, 1952          </td></tr>\n",
       "\t<tr><th scope=row>4991</th><td>51.123.2  </td><td>Cann</td><td>Cann</td><td>American Decorative Arts</td><td></td><td>1740</td><td>american</td><td>united states </td><td></td><td></td><td>George Hanners Sr.|George Hanners Jr.</td><td>Silver          </td><td>Silver</td><td>Overall: 5 5/16 x 5 5/16 in. (13.5 x 13.5 cm); 13 oz. 1 dwt. (406.4 g)\n",
       "Lip: Diam. 3 3/16 in. (8.1 cm)\n",
       "Foot: Diam. 3 3/16 in. (8.1 cm)</td><td>Gift of Robert Ogden Bishop, 1951                           </td></tr>\n",
       "\t<tr><th scope=row>4992</th><td>33.120.269</td><td>Cann</td><td>Cann</td><td>American Decorative Arts</td><td></td><td>1760</td><td>american</td><td>united states </td><td></td><td></td><td>George Hanners Jr.                   </td><td>Silver          </td><td>Silver</td><td>Overall: 4 13/16 x 5 1/4 in. (12.2 x 13.3 cm); 11 oz. 15 dwt. (365 g)\n",
       "Lip: Diam. 3 1/2 in. (8.9 cm)\n",
       "Foot: Diam. 3 5/8 in. (9.2 cm)   </td><td>Bequest of Alphonso T. Clearwater, 1933                     </td></tr>\n",
       "\t<tr><th scope=row>4993</th><td>33.120.268</td><td>Mug </td><td>Mug </td><td>American Decorative Arts</td><td></td><td>1820</td><td>american</td><td>united states </td><td></td><td></td><td>M.H.                                 </td><td>Silver          </td><td>Silver</td><td>Overall: 3 1/8 x 4 in. (7.9 x 10.2 cm); 4 oz. 14 dwt. (146.8 g)\n",
       "Lip: Diam. 2 1/2 in. (6.4 cm)\n",
       "Foot: Diam. 2 15/16 in. (7.5 cm)       </td><td>Bequest of Alphonso T. Clearwater, 1933                     </td></tr>\n",
       "\t<tr><th scope=row>4994</th><td>22.9      </td><td>Cann</td><td>Cann</td><td>American Decorative Arts</td><td></td><td>1750</td><td>american</td><td>united states </td><td></td><td></td><td>Jacob Hurd                           </td><td>Silver          </td><td>Silver</td><td>Overall: 5 x 5 1/16 in. (12.7 x 12.9 cm); 10 oz. 14 dwt. (332.4 g)\n",
       "Lip: Diam. 3 3/16 in. (8.1 cm)\n",
       "Foot: Diam. 3 5/16 in. (8.4 cm)    </td><td>Rogers Fund, 1922                                           </td></tr>\n",
       "\t<tr><th scope=row>4995</th><td>22.9      </td><td>Cann</td><td>Cann</td><td>American Decorative Arts</td><td></td><td>1750</td><td>american</td><td>united states </td><td></td><td></td><td>Jacob Hurd                           </td><td>Silver          </td><td>Silver</td><td>Overall: 5 x 5 1/16 in. (12.7 x 12.9 cm); 10 oz. 14 dwt. (332.4 g)\n",
       "Lip: Diam. 3 3/16 in. (8.1 cm)\n",
       "Foot: Diam. 3 5/16 in. (8.4 cm)    </td><td>Rogers Fund, 1922                                           </td></tr>\n",
       "\t<tr><th scope=row>4996</th><td>20.48.3   </td><td>Mug </td><td>Mug </td><td>American Decorative Arts</td><td></td><td>1850</td><td>american</td><td>united states </td><td></td><td></td><td>Jersey Glass Company of George Dummer</td><td>Free-blown glass</td><td>Glass </td><td>H. 7 1/4 in. (18.4 cm)                                                                                                                 </td><td>Gift of Mrs. Ernest A. Fairchild, 1920                      </td></tr>\n",
       "\t<tr><th scope=row>4997</th><td>33.120.270</td><td>Mug </td><td>Mug </td><td>American Decorative Arts</td><td></td><td>1850</td><td>american</td><td>united states </td><td></td><td></td><td>Jones, Low and Ball                  </td><td>Silver          </td><td>Silver</td><td>Overall: 4 15/16 x 4 5/8 in. (12.5 x 11.7 cm); 4 oz. 19 dwt. (153.9 g)\n",
       "Lip: Diam. 3 1/4 in. (8.3 cm)\n",
       "Foot: Diam. 2 5/8 in. (6.7 cm)  </td><td>Bequest of Alphonso T. Clearwater, 1933                     </td></tr>\n",
       "\t<tr><th scope=row>4998</th><td>46.140.325</td><td>Mug </td><td>Mug </td><td>American Decorative Arts</td><td></td><td>1898</td><td>american</td><td>united states </td><td></td><td></td><td>King Glass Company                   </td><td>Pressed glass   </td><td>Glass </td><td>H. 3 5/16 in. (8.4 cm)                                                                                                                 </td><td>Gift of Mrs. Emily Winthrop Miles, 1946                     </td></tr>\n",
       "\t<tr><th scope=row>4999</th><td>26.279.1  </td><td>Cann</td><td>Cann</td><td>American Decorative Arts</td><td></td><td>1830</td><td>american</td><td>united states </td><td></td><td></td><td>Samuel Kirk                          </td><td>Silver          </td><td>Silver</td><td>Overall: 5 x 5 3/16 in. (12.7 x 13.2 cm); 12 oz. 13 dwt. (394 g)\n",
       "Lip: Diam. 3 1/4 in. (8.3 cm)\n",
       "Base: Diam. 3 1/2 in. (3 1/2 in.)     </td><td>Gift of Samuel Kirk and Son, Inc., 1926                     </td></tr>\n",
       "\t<tr><th scope=row>5000</th><td>33.120.271</td><td>Cann</td><td>Cann</td><td>American Decorative Arts</td><td></td><td>1745</td><td>american</td><td>united states </td><td></td><td></td><td>Jeffrey Lang                         </td><td>Silver          </td><td>Silver</td><td>Overall: 4 1/2 x 4 7/8 in. (11.4 x 12.4 cm); 8 oz. 6 dwt. (257.7 g)\n",
       "Lip: Diam. 2 7/8 in. (7.3 cm)\n",
       "Foot: Diam. 2 13/16 in. (7.1 cm)   </td><td>Bequest of Alphonso T. Clearwater, 1933                     </td></tr>\n",
       "</tbody>\n",
       "</table>\n"
      ],
      "text/latex": [
       "A data.frame: 5000 × 15\n",
       "\\begin{tabular}{r|lllllllllllllll}\n",
       "  & Object\\_Number & Object\\_Name & Title & Department & Period & Object\\_Year & Nationality & Country & Region & Sub\\_Region & Artist\\_Name & Medium & Classification & Dimensions & Credit\\\\\n",
       "  & <chr> & <chr> & <chr> & <chr> & <chr> & <int> & <chr> & <chr> & <chr> & <chr> & <chr> & <chr> & <chr> & <chr> & <chr>\\\\\n",
       "\\hline\n",
       "\t1 & 1979.486.1 & Coin     & One-dollar Liberty Head Coin            & American Decorative Arts         &  & 1853 & american   & united states &  &  & James Barton Longacre & Gold             & Metal  & Dimensions unavailable   & Gift of Heinz L. Stoppelmann, 1979\\\\\n",
       "\t2 & 1980.264.5 & Coin     & Ten-dollar Liberty Head Coin            & American Decorative Arts         &  & 1901 & american   & united states &  &  & Christian Gobrecht    & Gold             & Metal  & Dimensions unavailable   & Gift of Heinz L. Stoppelmann, 1980\\\\\n",
       "\t3 & 67.265.9   & Coin     & Two-and-a-Half Dollar Coin              & American Decorative Arts         &  & 1927 & american   & united states &  &  &                       & Gold             & Metal  & Diam. 11/16 in. (1.7 cm) & Gift of C. Ruxton Love, Jr., 1967 \\\\\n",
       "\t4 & 67.265.10  & Coin     & Two-and-a-Half Dollar Coin              & American Decorative Arts         &  & 1927 & american   & united states &  &  &                       & Gold             & Metal  & Diam. 11/16 in. (1.7 cm) & Gift of C. Ruxton Love, Jr., 1967 \\\\\n",
       "\t5 & 67.265.11  & Coin     & Two-and-a-Half Dollar Coin              & American Decorative Arts         &  & 1927 & american   & united states &  &  &                       & Gold             & Metal  & Diam. 11/16 in. (1.7 cm) & Gift of C. Ruxton Love, Jr., 1967 \\\\\n",
       "\t6 & 67.265.12  & Coin     & Two-and-a-Half Dollar Coin              & American Decorative Arts         &  & 1927 & american   & united states &  &  &                       & Gold             & Metal  & Diam. 11/16 in. (1.7 cm) & Gift of C. Ruxton Love, Jr., 1967 \\\\\n",
       "\t7 & 67.265.13  & Coin     & Two-and-a-Half Dollar Coin              & American Decorative Arts         &  & 1927 & american   & united states &  &  &                       & Gold             & Metal  & Diam. 11/16 in. (1.7 cm) & Gift of C. Ruxton Love, Jr., 1967 \\\\\n",
       "\t8 & 67.265.14  & Coin     & Two-and-a-Half Dollar Coin              & American Decorative Arts         &  & 1927 & american   & united states &  &  &                       & Gold             & Metal  & Diam. 11/16 in. (1.7 cm) & Gift of C. Ruxton Love, Jr., 1967 \\\\\n",
       "\t9 & 67.265.15  & Coin     & Two-and-a-Half Dollar Coin              & American Decorative Arts         &  & 1927 & american   & united states &  &  &                       & Gold             & Metal  & Diam. 11/16 in. (1.7 cm) & Gift of C. Ruxton Love, Jr., 1967 \\\\\n",
       "\t10 & 1979.486.3 & Coin     & Two-and-a-half-dollar Indian Head Coin  & American Decorative Arts         &  & 1912 & american   & united states &  &  & Bela Lyon Pratt       & Gold             & Metal  & Dimensions unavailable   & Gift of Heinz L. Stoppelmann, 1979\\\\\n",
       "\t11 & 1979.486.2 & Coin     & Two-and-a-half-dollar Liberty Head Coin & American Decorative Arts         &  & 1907 & american   & united states &  &  & Christian Gobrecht    & Gold             & Metal  & Dimensions unavailable   & Gift of Heinz L. Stoppelmann, 1979\\\\\n",
       "\t12 & 1979.486.7 & Coin     & Twenty-dollar Liberty Head Coin         & American Decorative Arts         &  & 1876 & american   & united states &  &  & James Barton Longacre & Gold             & Metal  & Dimensions unavailable   & Gift of Heinz L. Stoppelmann, 1979\\\\\n",
       "\t13 & 1979.486.4 & Coin     & Five-dollar Indian Head Coin            & American Decorative Arts         &  & 1910 & american   & united states &  &  & Bela Lyon Pratt       & Gold             & Metal  & Dimensions unavailable   & Gift of Heinz L. Stoppelmann, 1979\\\\\n",
       "\t14 & 1979.486.5 & Coin     & Five-dollar Liberty Head Coin           & American Decorative Arts         &  & 1907 & american   & united states &  &  & Christian Gobrecht    & Gold             & Metal  & Dimensions unavailable   & Gift of Heinz L. Stoppelmann, 1979\\\\\n",
       "\t15 & 16.74.49   & Coin     & Coin, 1/2 Real                          & American Paintings and Sculpture &  & 1700 & mexican    & mexico        &  &  &                       & Silver           & Silver & Diam. 1/2 in. (1.3 cm)   & Gift of Mrs. Russell Sage, 1916   \\\\\n",
       "\t16 & 16.74.27   & Peso     & Coin, 1/4 Peso                          & American Paintings and Sculpture &  & 1900 & mexican    & mexico        &  &  & Mexican Artist        & Bronze or copper & Metal  & Diam. 1 1/8 in. (2.9 cm) & Gift of Mrs. Russell Sage, 1916   \\\\\n",
       "\t17 & 16.74.28   & Peso     & Coin, 1/4 Peso                          & American Paintings and Sculpture &  & 1867 & mexican    & mexico        &  &  & Mexican Artist        & Bronze or copper & Metal  & Diam. 1 1/8 in. (2.9 cm) & Gift of Mrs. Russell Sage, 1916   \\\\\n",
       "\t18 & 16.74.29   & Peso     & Coin, 1/4 Peso                          & American Paintings and Sculpture &  & 1860 & mexican    & mexico        &  &  & Mexican Artist        & Bronze or copper & Metal  & Diam. 1 1/8 in. (2.9 cm) & Gift of Mrs. Russell Sage, 1916   \\\\\n",
       "\t19 & 16.74.30   & Peso     & Coin, 1/4 Peso                          & American Paintings and Sculpture &  & 1859 & mexican    & mexico        &  &  &                       & Bronze or copper & Metal  & Diam. 1 1/8 in. (2.9 cm) & Gift of Mrs. Russell Sage, 1916   \\\\\n",
       "\t20 & 16.74.31   & Peso     & Coin, 1/4 Peso                          & American Paintings and Sculpture &  & 1860 & mexican    & mexico        &  &  &                       & Bronze or copper & Metal  & Diam. 1 1/8 in. (2.9 cm) & Gift of Mrs. Russell Sage, 1916   \\\\\n",
       "\t21 & 16.74.32   & Peso     & Coin, 1/4 Peso                          & American Paintings and Sculpture &  & 1859 & mexican    & mexico        &  &  &                       & Bronze or copper & Metal  & Diam. 1 1/8 in. (2.9 cm) & Gift of Mrs. Russell Sage, 1916   \\\\\n",
       "\t22 & 16.74.43   & Coin     & Coin, 1/4 Real                          & American Paintings and Sculpture &  & 1881 & guatemalan & guatemala     &  &  &                       & Silver           & Silver & Diam. 1/2 in. (1.3 cm)   & Gift of Mrs. Russell Sage, 1916   \\\\\n",
       "\t23 & 16.74.44   & Coin     & Coin, 1/4 Real                          & American Paintings and Sculpture &  & 1878 & guatemalan & guatemala     &  &  &                       & Silver           & Silver & Diam. 1/2 in. (1.3 cm)   & Gift of Mrs. Russell Sage, 1916   \\\\\n",
       "\t24 & 16.74.33   & Centavos & Coin, 10 Centavos                       & American Paintings and Sculpture &  & 1870 & mexican    & mexico        &  &  &                       & Nickel           & Metal  & Diam. 3/4 in. (1.9 cm)   & Gift of Mrs. Russell Sage, 1916   \\\\\n",
       "\t25 & 16.74.34   & Centavos & Coin, 10 Centavos                       & American Paintings and Sculpture &  & 1870 & mexican    & mexico        &  &  &                       & Nickel           & Metal  & Diam. 3/4 in. (1.9 cm)   & Gift of Mrs. Russell Sage, 1916   \\\\\n",
       "\t26 & 16.74.35   & Centavos & Coin, 10 Centavos                       & American Paintings and Sculpture &  & 1870 & mexican    & mexico        &  &  &                       & Nickel           & Metal  & Diam. 3/4 in. (1.9 cm)   & Gift of Mrs. Russell Sage, 1916   \\\\\n",
       "\t27 & 16.74.36   & Centavos & Coin, 10 Centavos                       & American Paintings and Sculpture &  & 1870 & mexican    & mexico        &  &  &                       & Nickel           & Metal  & Diam. 3/4 in. (1.9 cm)   & Gift of Mrs. Russell Sage, 1916   \\\\\n",
       "\t28 & 16.74.38   & Centavos & Coin, 10 Centavos                       & American Paintings and Sculpture &  & 1870 & mexican    & mexico        &  &  &                       & Nickel           & Metal  & Diam. 3/4 in. (1.9 cm)   & Gift of Mrs. Russell Sage, 1916   \\\\\n",
       "\t29 & 16.74.39   & Centavos & Coin, 10 Centavos                       & American Paintings and Sculpture &  & 1870 & mexican    & mexico        &  &  &                       & Nickel           & Metal  & Diam. 3/4 in. (1.9 cm)   & Gift of Mrs. Russell Sage, 1916   \\\\\n",
       "\t30 & 16.74.37   & Centavos & Coin, 10 Centavos                       & American Paintings and Sculpture &  & 1885 & mexican    & mexico        &  &  &                       & Nickel           & Metal  & Diam. 3/4 in. (1.9 cm)   & Gift of Mrs. Russell Sage, 1916   \\\\\n",
       "\t⋮ & ⋮ & ⋮ & ⋮ & ⋮ & ⋮ & ⋮ & ⋮ & ⋮ & ⋮ & ⋮ & ⋮ & ⋮ & ⋮ & ⋮ & ⋮\\\\\n",
       "\t4971 & 43.162.8   & Mug  & Mug  & American Decorative Arts &  & 1819 & american & united states  &  &  & Parks Boyd                            & Pewter           & Metal  & H. 5 3/4 in. (14.6 cm)                                                                                                                  & Gift of Joseph France, 1943                                 \\\\\n",
       "\t4972 & 33.120.263 & Cann & Cann & American Decorative Arts &  & 1775 & american & united states  &  &  & Daniel Boyer                          & Silver           & Silver & Overall: 5 x 5 3/8 in. (12.7 x 13.7 cm); 11 oz. 11 dwt. (358.5 g)\n",
       "Lip: Diam. 3 3/8 in. (8.6 cm)\n",
       "Base: Diam. 3 3/8 in. (8.6 cm)        & Bequest of Alphonso T. Clearwater, 1933                     \\\\\n",
       "\t4973 & 46.140.809 & Mug  & Mug  & American Decorative Arts &  & 1870 & american & united states  &  &  & Bryce, Walker and Company             & Pressed glass    & Glass  & H. 3 5/8 in. (9.2 cm); Diam. 3 5/16 in. (8.4 cm)                                                                                        & Gift of Mrs. Emily Winthrop Miles, 1946                     \\\\\n",
       "\t4974 & 33.120.264 & Cann & Cann & American Decorative Arts &  & 1760 & american & united states  &  &  & John Coverly                          & Silver           & Silver & Overall: 5 1/8 x 5 1/16 in. (13 x 12.9 cm); 9 oz. 8 dwt. (292.3 g)\n",
       "Lip: Diam. 3 1/8 in. (7.9 cm)\n",
       "Base: Diam. 3 1/16 in. (7.8 cm)      & Bequest of Alphonso T. Clearwater, 1933                     \\\\\n",
       "\t4975 & 43.162.13  & Mug  & Mug  & American Decorative Arts &  & 1840 & american & united states  &  &  & Daniel Curtiss                        & Pewter           & Metal  & H. 3 1/8 in. (7.9 cm)                                                                                                                   & Gift of Joseph France, 1943                                 \\\\\n",
       "\t4976 & 41.34.24   & Mug  & Mug  & American Decorative Arts &  & 1816 & american & united states  &  &  & Samuel Danforth                       & Pewter           & Metal  & H. 3 1/4 in. (8.3 cm)                                                                                                                   & Gift of Mrs. J. Insley Blair, in memory of her husband, 1941\\\\\n",
       "\t4977 & 62.89.16   & Mug  & Mug  & American Decorative Arts &  & 1816 & american & united states  &  &  & Samuel Danforth                       & Pewter           & Metal  & H. 2 in. (5.1 cm)                                                                                                                       & Gift of Mrs. Stephen S. FitzGerald, 1962                    \\\\\n",
       "\t4978 & 62.89.17   & Mug  & Mug  & American Decorative Arts &  & 1816 & american & united states  &  &  & Samuel Danforth                       & Pewter           & Metal  & H. 2 1/2 in. (6.4 cm)                                                                                                                   & Gift of Mrs. Stephen S. FitzGerald, 1962                    \\\\\n",
       "\t4979 & 33.120.265 & Cann & Cann & American Decorative Arts &  & 1796 & american & united states  &  &  & Cary Dunn                             & Silver           & Silver & Overall: 3 1/2 x 3 7/8 in. (8.9 x 9.8 cm); 3 oz. 2 dwt. (95.8 g)\n",
       "Lip: Diam. 2 5/8 in. (6.7 cm)\n",
       "Foot: Diam. 2 3/8 in. (6 cm)           & Bequest of Alphonso T. Clearwater, 1933                     \\\\\n",
       "\t4980 & 33.120.18  & Cann & Cann & American Decorative Arts &  & 1800 & american & united states  &  &  & Daniel Dupuy                          & Silver           & Silver & Overall: 6 5/8 x 6 1/2 in. (16.8 x 16.5 cm); 22 oz. 6 dwt. (692.9 g)\n",
       "Lip: Diam. 4 in. (10.2 cm)\n",
       "Base: Diam. 4 1/2 in. (11.4 cm)       & Bequest of Alphonso T. Clearwater, 1933                     \\\\\n",
       "\t4981 & 33.120.285 & Cann & Cann & American Decorative Arts &  & 1750 & american & united states  &  &  & Peter Van Dyck                        & Silver           & Silver & Overall: 4 5/8 x 4 7/8 in. (11.7 x 12.4 cm); 10 oz. 15 dwt. (335.1 g)\n",
       "Lip: Diam. 3 1/8 in. (7.9 cm)\n",
       "Foot: Diam. 2 7/8 in. (7.3 cm)    & Bequest of Alphonso T. Clearwater, 1933                     \\\\\n",
       "\t4982 & 33.120.286 & Cann & Cann & American Decorative Arts &  & 1770 & american & united states  &  &  & Richard Van Dyck                      & Silver           & Silver & Overall: 4 13/16 x 4 15/16 in. (12.2 x 12.5 cm); 10 oz. 14 dwt. (333.5 g)\n",
       "Lip: Diam. 3 1/4 in. (8.3 cm)\n",
       "Foot: Diam. 3 in. (7.6 cm)    & Bequest of Alphonso T. Clearwater, 1933                     \\\\\n",
       "\t4983 & 24.109.20  & Cann & Cann & American Decorative Arts &  & 1790 & american & united states  &  &  & Stephen Emery                         & Silver           & Silver & Overall: 5 13/16 x 5 5/8 in. (14.8 x 14.3 cm); 13 oz. 19 dwt. (435.3 g)\n",
       "Lip: Diam. 3 5/8 in. (9.2 cm)\n",
       "Base: Diam. 3 7/16 in. (8.7 cm) & Bequest of Charles Allen Munn, 1924                         \\\\\n",
       "\t4984 & 01.3.3     & Mug  & Mug  & American Decorative Arts &  & 1750 & american & united states  &  &  & Jacob Ten Eyck                        & Silver           & Silver & Overall: 4 x 4 9/16 in. (10.2 x 11.6 cm); 9 oz. 12 dwt. (297.9 g)\n",
       "Lip: Diam. 2 15/16 in. (7.5 cm)\n",
       "Foot: Diam. 3 1/4 in. (8.3 cm)      & Gift of Mrs. Abraham Lansing, 1901                          \\\\\n",
       "\t4985 & 27.85.9    & Mug  & Mug  & American Decorative Arts &  & 1705 & american & united states  &  &  & Koenraet Ten Eyck                     & Silver           & Silver & Overall: 3 5/8 x 5 1/4 in. (9.2 x 13.3 cm); 7 oz. 17 dwt. (244.7 g)\n",
       "Lip: Diam. 3 1/16 in. (7.8 cm)\n",
       "Base: Diam. 3 7/16 in. (8.7 cm)    & Gift of Annie Clarkson, 1927                                \\\\\n",
       "\t4986 & 33.120.266 & Mug  & Mug  & American Decorative Arts &  & 1825 & american & united states  &  &  & Abraham Fellows                       & Silver           & Silver & Overall: 4 1/8 x 4 1/4 in. (10.5 x 10.8 cm); 3 oz. 17 dwt. (119 g)\n",
       "Lip: Diam. 2 3/4 in. (7 cm)\n",
       "Base: Diam. 2 5/8 in. (6.7 cm)         & Bequest of Alphonso T. Clearwater, 1933                     \\\\\n",
       "\t4987 & 23.80.19   & Mug  & Mug  & American Decorative Arts &  & 1750 & american & united states  &  &  & George Fielding                       & Silver           & Silver & Overall: 3 9/16 x 5 7/16 in. (9 x 13.8 cm); 8 oz. 13 dwt. (268.9 g)\n",
       "Lip: Diam. 3 5/16 in. (8.4 cm)\n",
       "Foot: Diam. 3 1/2 in. (8.9 cm)     & Gift of Mr. and Mrs. William A. Moore, 1923                 \\\\\n",
       "\t4988 & 33.120.267 & Mug  & Mug  & American Decorative Arts &  & 1830 & american & united states  &  &  & John W. Forbes                        & Silver           & Silver & Overall: 3 1/4 x 4 1/8 in. (8.3 x 10.5 cm);  4 oz. 4 dwt. (130 g)\n",
       "Lip: Diam. 2 5/8 in. (6.7 cm)\n",
       "Base: Diam. 2 11/16 in. (6.8 cm)      & Bequest of Alphonso T. Clearwater, 1933                     \\\\\n",
       "\t4989 & 46.140.861 & Mug  & Mug  & American Decorative Arts &  & 1876 & american & united states  &  &  & James Gillinder and Sons              & Pressed glass    & Glass  & H. 3 1/2 in. (8.9 cm)                                                                                                                   & Gift of Mrs. Emily Winthrop Miles, 1946                     \\\\\n",
       "\t4990 & 52.101     & Mug  & Mug  & American Decorative Arts &  & 1800 & british  & united kingdom &  &  & Thomas Gilpin                         & Silver           & Silver & Overall: 3 11/16 x 4 5/16 in. (9.4 x 11 cm); 7 oz. 11 dwt. (234.6 g)\n",
       "Lip: Diam. 2 9/16 in. (6.5 cm)\n",
       "Foot: Diam. 2 15/16 in. (7.5 cm)  & Posthumous Gift of Gulian Verplanck Quillard, 1952          \\\\\n",
       "\t4991 & 51.123.2   & Cann & Cann & American Decorative Arts &  & 1740 & american & united states  &  &  & George Hanners Sr.\\textbar{}George Hanners Jr. & Silver           & Silver & Overall: 5 5/16 x 5 5/16 in. (13.5 x 13.5 cm); 13 oz. 1 dwt. (406.4 g)\n",
       "Lip: Diam. 3 3/16 in. (8.1 cm)\n",
       "Foot: Diam. 3 3/16 in. (8.1 cm) & Gift of Robert Ogden Bishop, 1951                           \\\\\n",
       "\t4992 & 33.120.269 & Cann & Cann & American Decorative Arts &  & 1760 & american & united states  &  &  & George Hanners Jr.                    & Silver           & Silver & Overall: 4 13/16 x 5 1/4 in. (12.2 x 13.3 cm); 11 oz. 15 dwt. (365 g)\n",
       "Lip: Diam. 3 1/2 in. (8.9 cm)\n",
       "Foot: Diam. 3 5/8 in. (9.2 cm)    & Bequest of Alphonso T. Clearwater, 1933                     \\\\\n",
       "\t4993 & 33.120.268 & Mug  & Mug  & American Decorative Arts &  & 1820 & american & united states  &  &  & M.H.                                  & Silver           & Silver & Overall: 3 1/8 x 4 in. (7.9 x 10.2 cm); 4 oz. 14 dwt. (146.8 g)\n",
       "Lip: Diam. 2 1/2 in. (6.4 cm)\n",
       "Foot: Diam. 2 15/16 in. (7.5 cm)        & Bequest of Alphonso T. Clearwater, 1933                     \\\\\n",
       "\t4994 & 22.9       & Cann & Cann & American Decorative Arts &  & 1750 & american & united states  &  &  & Jacob Hurd                            & Silver           & Silver & Overall: 5 x 5 1/16 in. (12.7 x 12.9 cm); 10 oz. 14 dwt. (332.4 g)\n",
       "Lip: Diam. 3 3/16 in. (8.1 cm)\n",
       "Foot: Diam. 3 5/16 in. (8.4 cm)     & Rogers Fund, 1922                                           \\\\\n",
       "\t4995 & 22.9       & Cann & Cann & American Decorative Arts &  & 1750 & american & united states  &  &  & Jacob Hurd                            & Silver           & Silver & Overall: 5 x 5 1/16 in. (12.7 x 12.9 cm); 10 oz. 14 dwt. (332.4 g)\n",
       "Lip: Diam. 3 3/16 in. (8.1 cm)\n",
       "Foot: Diam. 3 5/16 in. (8.4 cm)     & Rogers Fund, 1922                                           \\\\\n",
       "\t4996 & 20.48.3    & Mug  & Mug  & American Decorative Arts &  & 1850 & american & united states  &  &  & Jersey Glass Company of George Dummer & Free-blown glass & Glass  & H. 7 1/4 in. (18.4 cm)                                                                                                                  & Gift of Mrs. Ernest A. Fairchild, 1920                      \\\\\n",
       "\t4997 & 33.120.270 & Mug  & Mug  & American Decorative Arts &  & 1850 & american & united states  &  &  & Jones, Low and Ball                   & Silver           & Silver & Overall: 4 15/16 x 4 5/8 in. (12.5 x 11.7 cm); 4 oz. 19 dwt. (153.9 g)\n",
       "Lip: Diam. 3 1/4 in. (8.3 cm)\n",
       "Foot: Diam. 2 5/8 in. (6.7 cm)   & Bequest of Alphonso T. Clearwater, 1933                     \\\\\n",
       "\t4998 & 46.140.325 & Mug  & Mug  & American Decorative Arts &  & 1898 & american & united states  &  &  & King Glass Company                    & Pressed glass    & Glass  & H. 3 5/16 in. (8.4 cm)                                                                                                                  & Gift of Mrs. Emily Winthrop Miles, 1946                     \\\\\n",
       "\t4999 & 26.279.1   & Cann & Cann & American Decorative Arts &  & 1830 & american & united states  &  &  & Samuel Kirk                           & Silver           & Silver & Overall: 5 x 5 3/16 in. (12.7 x 13.2 cm); 12 oz. 13 dwt. (394 g)\n",
       "Lip: Diam. 3 1/4 in. (8.3 cm)\n",
       "Base: Diam. 3 1/2 in. (3 1/2 in.)      & Gift of Samuel Kirk and Son, Inc., 1926                     \\\\\n",
       "\t5000 & 33.120.271 & Cann & Cann & American Decorative Arts &  & 1745 & american & united states  &  &  & Jeffrey Lang                          & Silver           & Silver & Overall: 4 1/2 x 4 7/8 in. (11.4 x 12.4 cm); 8 oz. 6 dwt. (257.7 g)\n",
       "Lip: Diam. 2 7/8 in. (7.3 cm)\n",
       "Foot: Diam. 2 13/16 in. (7.1 cm)    & Bequest of Alphonso T. Clearwater, 1933                     \\\\\n",
       "\\end{tabular}\n"
      ],
      "text/markdown": [
       "\n",
       "A data.frame: 5000 × 15\n",
       "\n",
       "| <!--/--> | Object_Number &lt;chr&gt; | Object_Name &lt;chr&gt; | Title &lt;chr&gt; | Department &lt;chr&gt; | Period &lt;chr&gt; | Object_Year &lt;int&gt; | Nationality &lt;chr&gt; | Country &lt;chr&gt; | Region &lt;chr&gt; | Sub_Region &lt;chr&gt; | Artist_Name &lt;chr&gt; | Medium &lt;chr&gt; | Classification &lt;chr&gt; | Dimensions &lt;chr&gt; | Credit &lt;chr&gt; |\n",
       "|---|---|---|---|---|---|---|---|---|---|---|---|---|---|---|---|\n",
       "| 1 | 1979.486.1 | Coin     | One-dollar Liberty Head Coin            | American Decorative Arts         | <!----> | 1853 | american   | united states | <!----> | <!----> | James Barton Longacre | Gold             | Metal  | Dimensions unavailable   | Gift of Heinz L. Stoppelmann, 1979 |\n",
       "| 2 | 1980.264.5 | Coin     | Ten-dollar Liberty Head Coin            | American Decorative Arts         | <!----> | 1901 | american   | united states | <!----> | <!----> | Christian Gobrecht    | Gold             | Metal  | Dimensions unavailable   | Gift of Heinz L. Stoppelmann, 1980 |\n",
       "| 3 | 67.265.9   | Coin     | Two-and-a-Half Dollar Coin              | American Decorative Arts         | <!----> | 1927 | american   | united states | <!----> | <!----> | <!----> | Gold             | Metal  | Diam. 11/16 in. (1.7 cm) | Gift of C. Ruxton Love, Jr., 1967  |\n",
       "| 4 | 67.265.10  | Coin     | Two-and-a-Half Dollar Coin              | American Decorative Arts         | <!----> | 1927 | american   | united states | <!----> | <!----> | <!----> | Gold             | Metal  | Diam. 11/16 in. (1.7 cm) | Gift of C. Ruxton Love, Jr., 1967  |\n",
       "| 5 | 67.265.11  | Coin     | Two-and-a-Half Dollar Coin              | American Decorative Arts         | <!----> | 1927 | american   | united states | <!----> | <!----> | <!----> | Gold             | Metal  | Diam. 11/16 in. (1.7 cm) | Gift of C. Ruxton Love, Jr., 1967  |\n",
       "| 6 | 67.265.12  | Coin     | Two-and-a-Half Dollar Coin              | American Decorative Arts         | <!----> | 1927 | american   | united states | <!----> | <!----> | <!----> | Gold             | Metal  | Diam. 11/16 in. (1.7 cm) | Gift of C. Ruxton Love, Jr., 1967  |\n",
       "| 7 | 67.265.13  | Coin     | Two-and-a-Half Dollar Coin              | American Decorative Arts         | <!----> | 1927 | american   | united states | <!----> | <!----> | <!----> | Gold             | Metal  | Diam. 11/16 in. (1.7 cm) | Gift of C. Ruxton Love, Jr., 1967  |\n",
       "| 8 | 67.265.14  | Coin     | Two-and-a-Half Dollar Coin              | American Decorative Arts         | <!----> | 1927 | american   | united states | <!----> | <!----> | <!----> | Gold             | Metal  | Diam. 11/16 in. (1.7 cm) | Gift of C. Ruxton Love, Jr., 1967  |\n",
       "| 9 | 67.265.15  | Coin     | Two-and-a-Half Dollar Coin              | American Decorative Arts         | <!----> | 1927 | american   | united states | <!----> | <!----> | <!----> | Gold             | Metal  | Diam. 11/16 in. (1.7 cm) | Gift of C. Ruxton Love, Jr., 1967  |\n",
       "| 10 | 1979.486.3 | Coin     | Two-and-a-half-dollar Indian Head Coin  | American Decorative Arts         | <!----> | 1912 | american   | united states | <!----> | <!----> | Bela Lyon Pratt       | Gold             | Metal  | Dimensions unavailable   | Gift of Heinz L. Stoppelmann, 1979 |\n",
       "| 11 | 1979.486.2 | Coin     | Two-and-a-half-dollar Liberty Head Coin | American Decorative Arts         | <!----> | 1907 | american   | united states | <!----> | <!----> | Christian Gobrecht    | Gold             | Metal  | Dimensions unavailable   | Gift of Heinz L. Stoppelmann, 1979 |\n",
       "| 12 | 1979.486.7 | Coin     | Twenty-dollar Liberty Head Coin         | American Decorative Arts         | <!----> | 1876 | american   | united states | <!----> | <!----> | James Barton Longacre | Gold             | Metal  | Dimensions unavailable   | Gift of Heinz L. Stoppelmann, 1979 |\n",
       "| 13 | 1979.486.4 | Coin     | Five-dollar Indian Head Coin            | American Decorative Arts         | <!----> | 1910 | american   | united states | <!----> | <!----> | Bela Lyon Pratt       | Gold             | Metal  | Dimensions unavailable   | Gift of Heinz L. Stoppelmann, 1979 |\n",
       "| 14 | 1979.486.5 | Coin     | Five-dollar Liberty Head Coin           | American Decorative Arts         | <!----> | 1907 | american   | united states | <!----> | <!----> | Christian Gobrecht    | Gold             | Metal  | Dimensions unavailable   | Gift of Heinz L. Stoppelmann, 1979 |\n",
       "| 15 | 16.74.49   | Coin     | Coin, 1/2 Real                          | American Paintings and Sculpture | <!----> | 1700 | mexican    | mexico        | <!----> | <!----> | <!----> | Silver           | Silver | Diam. 1/2 in. (1.3 cm)   | Gift of Mrs. Russell Sage, 1916    |\n",
       "| 16 | 16.74.27   | Peso     | Coin, 1/4 Peso                          | American Paintings and Sculpture | <!----> | 1900 | mexican    | mexico        | <!----> | <!----> | Mexican Artist        | Bronze or copper | Metal  | Diam. 1 1/8 in. (2.9 cm) | Gift of Mrs. Russell Sage, 1916    |\n",
       "| 17 | 16.74.28   | Peso     | Coin, 1/4 Peso                          | American Paintings and Sculpture | <!----> | 1867 | mexican    | mexico        | <!----> | <!----> | Mexican Artist        | Bronze or copper | Metal  | Diam. 1 1/8 in. (2.9 cm) | Gift of Mrs. Russell Sage, 1916    |\n",
       "| 18 | 16.74.29   | Peso     | Coin, 1/4 Peso                          | American Paintings and Sculpture | <!----> | 1860 | mexican    | mexico        | <!----> | <!----> | Mexican Artist        | Bronze or copper | Metal  | Diam. 1 1/8 in. (2.9 cm) | Gift of Mrs. Russell Sage, 1916    |\n",
       "| 19 | 16.74.30   | Peso     | Coin, 1/4 Peso                          | American Paintings and Sculpture | <!----> | 1859 | mexican    | mexico        | <!----> | <!----> | <!----> | Bronze or copper | Metal  | Diam. 1 1/8 in. (2.9 cm) | Gift of Mrs. Russell Sage, 1916    |\n",
       "| 20 | 16.74.31   | Peso     | Coin, 1/4 Peso                          | American Paintings and Sculpture | <!----> | 1860 | mexican    | mexico        | <!----> | <!----> | <!----> | Bronze or copper | Metal  | Diam. 1 1/8 in. (2.9 cm) | Gift of Mrs. Russell Sage, 1916    |\n",
       "| 21 | 16.74.32   | Peso     | Coin, 1/4 Peso                          | American Paintings and Sculpture | <!----> | 1859 | mexican    | mexico        | <!----> | <!----> | <!----> | Bronze or copper | Metal  | Diam. 1 1/8 in. (2.9 cm) | Gift of Mrs. Russell Sage, 1916    |\n",
       "| 22 | 16.74.43   | Coin     | Coin, 1/4 Real                          | American Paintings and Sculpture | <!----> | 1881 | guatemalan | guatemala     | <!----> | <!----> | <!----> | Silver           | Silver | Diam. 1/2 in. (1.3 cm)   | Gift of Mrs. Russell Sage, 1916    |\n",
       "| 23 | 16.74.44   | Coin     | Coin, 1/4 Real                          | American Paintings and Sculpture | <!----> | 1878 | guatemalan | guatemala     | <!----> | <!----> | <!----> | Silver           | Silver | Diam. 1/2 in. (1.3 cm)   | Gift of Mrs. Russell Sage, 1916    |\n",
       "| 24 | 16.74.33   | Centavos | Coin, 10 Centavos                       | American Paintings and Sculpture | <!----> | 1870 | mexican    | mexico        | <!----> | <!----> | <!----> | Nickel           | Metal  | Diam. 3/4 in. (1.9 cm)   | Gift of Mrs. Russell Sage, 1916    |\n",
       "| 25 | 16.74.34   | Centavos | Coin, 10 Centavos                       | American Paintings and Sculpture | <!----> | 1870 | mexican    | mexico        | <!----> | <!----> | <!----> | Nickel           | Metal  | Diam. 3/4 in. (1.9 cm)   | Gift of Mrs. Russell Sage, 1916    |\n",
       "| 26 | 16.74.35   | Centavos | Coin, 10 Centavos                       | American Paintings and Sculpture | <!----> | 1870 | mexican    | mexico        | <!----> | <!----> | <!----> | Nickel           | Metal  | Diam. 3/4 in. (1.9 cm)   | Gift of Mrs. Russell Sage, 1916    |\n",
       "| 27 | 16.74.36   | Centavos | Coin, 10 Centavos                       | American Paintings and Sculpture | <!----> | 1870 | mexican    | mexico        | <!----> | <!----> | <!----> | Nickel           | Metal  | Diam. 3/4 in. (1.9 cm)   | Gift of Mrs. Russell Sage, 1916    |\n",
       "| 28 | 16.74.38   | Centavos | Coin, 10 Centavos                       | American Paintings and Sculpture | <!----> | 1870 | mexican    | mexico        | <!----> | <!----> | <!----> | Nickel           | Metal  | Diam. 3/4 in. (1.9 cm)   | Gift of Mrs. Russell Sage, 1916    |\n",
       "| 29 | 16.74.39   | Centavos | Coin, 10 Centavos                       | American Paintings and Sculpture | <!----> | 1870 | mexican    | mexico        | <!----> | <!----> | <!----> | Nickel           | Metal  | Diam. 3/4 in. (1.9 cm)   | Gift of Mrs. Russell Sage, 1916    |\n",
       "| 30 | 16.74.37   | Centavos | Coin, 10 Centavos                       | American Paintings and Sculpture | <!----> | 1885 | mexican    | mexico        | <!----> | <!----> | <!----> | Nickel           | Metal  | Diam. 3/4 in. (1.9 cm)   | Gift of Mrs. Russell Sage, 1916    |\n",
       "| ⋮ | ⋮ | ⋮ | ⋮ | ⋮ | ⋮ | ⋮ | ⋮ | ⋮ | ⋮ | ⋮ | ⋮ | ⋮ | ⋮ | ⋮ | ⋮ |\n",
       "| 4971 | 43.162.8   | Mug  | Mug  | American Decorative Arts | <!----> | 1819 | american | united states  | <!----> | <!----> | Parks Boyd                            | Pewter           | Metal  | H. 5 3/4 in. (14.6 cm)                                                                                                                  | Gift of Joseph France, 1943                                  |\n",
       "| 4972 | 33.120.263 | Cann | Cann | American Decorative Arts | <!----> | 1775 | american | united states  | <!----> | <!----> | Daniel Boyer                          | Silver           | Silver | Overall: 5 x 5 3/8 in. (12.7 x 13.7 cm); 11 oz. 11 dwt. (358.5 g)\n",
       "Lip: Diam. 3 3/8 in. (8.6 cm)\n",
       "Base: Diam. 3 3/8 in. (8.6 cm)        | Bequest of Alphonso T. Clearwater, 1933                      |\n",
       "| 4973 | 46.140.809 | Mug  | Mug  | American Decorative Arts | <!----> | 1870 | american | united states  | <!----> | <!----> | Bryce, Walker and Company             | Pressed glass    | Glass  | H. 3 5/8 in. (9.2 cm); Diam. 3 5/16 in. (8.4 cm)                                                                                        | Gift of Mrs. Emily Winthrop Miles, 1946                      |\n",
       "| 4974 | 33.120.264 | Cann | Cann | American Decorative Arts | <!----> | 1760 | american | united states  | <!----> | <!----> | John Coverly                          | Silver           | Silver | Overall: 5 1/8 x 5 1/16 in. (13 x 12.9 cm); 9 oz. 8 dwt. (292.3 g)\n",
       "Lip: Diam. 3 1/8 in. (7.9 cm)\n",
       "Base: Diam. 3 1/16 in. (7.8 cm)      | Bequest of Alphonso T. Clearwater, 1933                      |\n",
       "| 4975 | 43.162.13  | Mug  | Mug  | American Decorative Arts | <!----> | 1840 | american | united states  | <!----> | <!----> | Daniel Curtiss                        | Pewter           | Metal  | H. 3 1/8 in. (7.9 cm)                                                                                                                   | Gift of Joseph France, 1943                                  |\n",
       "| 4976 | 41.34.24   | Mug  | Mug  | American Decorative Arts | <!----> | 1816 | american | united states  | <!----> | <!----> | Samuel Danforth                       | Pewter           | Metal  | H. 3 1/4 in. (8.3 cm)                                                                                                                   | Gift of Mrs. J. Insley Blair, in memory of her husband, 1941 |\n",
       "| 4977 | 62.89.16   | Mug  | Mug  | American Decorative Arts | <!----> | 1816 | american | united states  | <!----> | <!----> | Samuel Danforth                       | Pewter           | Metal  | H. 2 in. (5.1 cm)                                                                                                                       | Gift of Mrs. Stephen S. FitzGerald, 1962                     |\n",
       "| 4978 | 62.89.17   | Mug  | Mug  | American Decorative Arts | <!----> | 1816 | american | united states  | <!----> | <!----> | Samuel Danforth                       | Pewter           | Metal  | H. 2 1/2 in. (6.4 cm)                                                                                                                   | Gift of Mrs. Stephen S. FitzGerald, 1962                     |\n",
       "| 4979 | 33.120.265 | Cann | Cann | American Decorative Arts | <!----> | 1796 | american | united states  | <!----> | <!----> | Cary Dunn                             | Silver           | Silver | Overall: 3 1/2 x 3 7/8 in. (8.9 x 9.8 cm); 3 oz. 2 dwt. (95.8 g)\n",
       "Lip: Diam. 2 5/8 in. (6.7 cm)\n",
       "Foot: Diam. 2 3/8 in. (6 cm)           | Bequest of Alphonso T. Clearwater, 1933                      |\n",
       "| 4980 | 33.120.18  | Cann | Cann | American Decorative Arts | <!----> | 1800 | american | united states  | <!----> | <!----> | Daniel Dupuy                          | Silver           | Silver | Overall: 6 5/8 x 6 1/2 in. (16.8 x 16.5 cm); 22 oz. 6 dwt. (692.9 g)\n",
       "Lip: Diam. 4 in. (10.2 cm)\n",
       "Base: Diam. 4 1/2 in. (11.4 cm)       | Bequest of Alphonso T. Clearwater, 1933                      |\n",
       "| 4981 | 33.120.285 | Cann | Cann | American Decorative Arts | <!----> | 1750 | american | united states  | <!----> | <!----> | Peter Van Dyck                        | Silver           | Silver | Overall: 4 5/8 x 4 7/8 in. (11.7 x 12.4 cm); 10 oz. 15 dwt. (335.1 g)\n",
       "Lip: Diam. 3 1/8 in. (7.9 cm)\n",
       "Foot: Diam. 2 7/8 in. (7.3 cm)    | Bequest of Alphonso T. Clearwater, 1933                      |\n",
       "| 4982 | 33.120.286 | Cann | Cann | American Decorative Arts | <!----> | 1770 | american | united states  | <!----> | <!----> | Richard Van Dyck                      | Silver           | Silver | Overall: 4 13/16 x 4 15/16 in. (12.2 x 12.5 cm); 10 oz. 14 dwt. (333.5 g)\n",
       "Lip: Diam. 3 1/4 in. (8.3 cm)\n",
       "Foot: Diam. 3 in. (7.6 cm)    | Bequest of Alphonso T. Clearwater, 1933                      |\n",
       "| 4983 | 24.109.20  | Cann | Cann | American Decorative Arts | <!----> | 1790 | american | united states  | <!----> | <!----> | Stephen Emery                         | Silver           | Silver | Overall: 5 13/16 x 5 5/8 in. (14.8 x 14.3 cm); 13 oz. 19 dwt. (435.3 g)\n",
       "Lip: Diam. 3 5/8 in. (9.2 cm)\n",
       "Base: Diam. 3 7/16 in. (8.7 cm) | Bequest of Charles Allen Munn, 1924                          |\n",
       "| 4984 | 01.3.3     | Mug  | Mug  | American Decorative Arts | <!----> | 1750 | american | united states  | <!----> | <!----> | Jacob Ten Eyck                        | Silver           | Silver | Overall: 4 x 4 9/16 in. (10.2 x 11.6 cm); 9 oz. 12 dwt. (297.9 g)\n",
       "Lip: Diam. 2 15/16 in. (7.5 cm)\n",
       "Foot: Diam. 3 1/4 in. (8.3 cm)      | Gift of Mrs. Abraham Lansing, 1901                           |\n",
       "| 4985 | 27.85.9    | Mug  | Mug  | American Decorative Arts | <!----> | 1705 | american | united states  | <!----> | <!----> | Koenraet Ten Eyck                     | Silver           | Silver | Overall: 3 5/8 x 5 1/4 in. (9.2 x 13.3 cm); 7 oz. 17 dwt. (244.7 g)\n",
       "Lip: Diam. 3 1/16 in. (7.8 cm)\n",
       "Base: Diam. 3 7/16 in. (8.7 cm)    | Gift of Annie Clarkson, 1927                                 |\n",
       "| 4986 | 33.120.266 | Mug  | Mug  | American Decorative Arts | <!----> | 1825 | american | united states  | <!----> | <!----> | Abraham Fellows                       | Silver           | Silver | Overall: 4 1/8 x 4 1/4 in. (10.5 x 10.8 cm); 3 oz. 17 dwt. (119 g)\n",
       "Lip: Diam. 2 3/4 in. (7 cm)\n",
       "Base: Diam. 2 5/8 in. (6.7 cm)         | Bequest of Alphonso T. Clearwater, 1933                      |\n",
       "| 4987 | 23.80.19   | Mug  | Mug  | American Decorative Arts | <!----> | 1750 | american | united states  | <!----> | <!----> | George Fielding                       | Silver           | Silver | Overall: 3 9/16 x 5 7/16 in. (9 x 13.8 cm); 8 oz. 13 dwt. (268.9 g)\n",
       "Lip: Diam. 3 5/16 in. (8.4 cm)\n",
       "Foot: Diam. 3 1/2 in. (8.9 cm)     | Gift of Mr. and Mrs. William A. Moore, 1923                  |\n",
       "| 4988 | 33.120.267 | Mug  | Mug  | American Decorative Arts | <!----> | 1830 | american | united states  | <!----> | <!----> | John W. Forbes                        | Silver           | Silver | Overall: 3 1/4 x 4 1/8 in. (8.3 x 10.5 cm);  4 oz. 4 dwt. (130 g)\n",
       "Lip: Diam. 2 5/8 in. (6.7 cm)\n",
       "Base: Diam. 2 11/16 in. (6.8 cm)      | Bequest of Alphonso T. Clearwater, 1933                      |\n",
       "| 4989 | 46.140.861 | Mug  | Mug  | American Decorative Arts | <!----> | 1876 | american | united states  | <!----> | <!----> | James Gillinder and Sons              | Pressed glass    | Glass  | H. 3 1/2 in. (8.9 cm)                                                                                                                   | Gift of Mrs. Emily Winthrop Miles, 1946                      |\n",
       "| 4990 | 52.101     | Mug  | Mug  | American Decorative Arts | <!----> | 1800 | british  | united kingdom | <!----> | <!----> | Thomas Gilpin                         | Silver           | Silver | Overall: 3 11/16 x 4 5/16 in. (9.4 x 11 cm); 7 oz. 11 dwt. (234.6 g)\n",
       "Lip: Diam. 2 9/16 in. (6.5 cm)\n",
       "Foot: Diam. 2 15/16 in. (7.5 cm)  | Posthumous Gift of Gulian Verplanck Quillard, 1952           |\n",
       "| 4991 | 51.123.2   | Cann | Cann | American Decorative Arts | <!----> | 1740 | american | united states  | <!----> | <!----> | George Hanners Sr.|George Hanners Jr. | Silver           | Silver | Overall: 5 5/16 x 5 5/16 in. (13.5 x 13.5 cm); 13 oz. 1 dwt. (406.4 g)\n",
       "Lip: Diam. 3 3/16 in. (8.1 cm)\n",
       "Foot: Diam. 3 3/16 in. (8.1 cm) | Gift of Robert Ogden Bishop, 1951                            |\n",
       "| 4992 | 33.120.269 | Cann | Cann | American Decorative Arts | <!----> | 1760 | american | united states  | <!----> | <!----> | George Hanners Jr.                    | Silver           | Silver | Overall: 4 13/16 x 5 1/4 in. (12.2 x 13.3 cm); 11 oz. 15 dwt. (365 g)\n",
       "Lip: Diam. 3 1/2 in. (8.9 cm)\n",
       "Foot: Diam. 3 5/8 in. (9.2 cm)    | Bequest of Alphonso T. Clearwater, 1933                      |\n",
       "| 4993 | 33.120.268 | Mug  | Mug  | American Decorative Arts | <!----> | 1820 | american | united states  | <!----> | <!----> | M.H.                                  | Silver           | Silver | Overall: 3 1/8 x 4 in. (7.9 x 10.2 cm); 4 oz. 14 dwt. (146.8 g)\n",
       "Lip: Diam. 2 1/2 in. (6.4 cm)\n",
       "Foot: Diam. 2 15/16 in. (7.5 cm)        | Bequest of Alphonso T. Clearwater, 1933                      |\n",
       "| 4994 | 22.9       | Cann | Cann | American Decorative Arts | <!----> | 1750 | american | united states  | <!----> | <!----> | Jacob Hurd                            | Silver           | Silver | Overall: 5 x 5 1/16 in. (12.7 x 12.9 cm); 10 oz. 14 dwt. (332.4 g)\n",
       "Lip: Diam. 3 3/16 in. (8.1 cm)\n",
       "Foot: Diam. 3 5/16 in. (8.4 cm)     | Rogers Fund, 1922                                            |\n",
       "| 4995 | 22.9       | Cann | Cann | American Decorative Arts | <!----> | 1750 | american | united states  | <!----> | <!----> | Jacob Hurd                            | Silver           | Silver | Overall: 5 x 5 1/16 in. (12.7 x 12.9 cm); 10 oz. 14 dwt. (332.4 g)\n",
       "Lip: Diam. 3 3/16 in. (8.1 cm)\n",
       "Foot: Diam. 3 5/16 in. (8.4 cm)     | Rogers Fund, 1922                                            |\n",
       "| 4996 | 20.48.3    | Mug  | Mug  | American Decorative Arts | <!----> | 1850 | american | united states  | <!----> | <!----> | Jersey Glass Company of George Dummer | Free-blown glass | Glass  | H. 7 1/4 in. (18.4 cm)                                                                                                                  | Gift of Mrs. Ernest A. Fairchild, 1920                       |\n",
       "| 4997 | 33.120.270 | Mug  | Mug  | American Decorative Arts | <!----> | 1850 | american | united states  | <!----> | <!----> | Jones, Low and Ball                   | Silver           | Silver | Overall: 4 15/16 x 4 5/8 in. (12.5 x 11.7 cm); 4 oz. 19 dwt. (153.9 g)\n",
       "Lip: Diam. 3 1/4 in. (8.3 cm)\n",
       "Foot: Diam. 2 5/8 in. (6.7 cm)   | Bequest of Alphonso T. Clearwater, 1933                      |\n",
       "| 4998 | 46.140.325 | Mug  | Mug  | American Decorative Arts | <!----> | 1898 | american | united states  | <!----> | <!----> | King Glass Company                    | Pressed glass    | Glass  | H. 3 5/16 in. (8.4 cm)                                                                                                                  | Gift of Mrs. Emily Winthrop Miles, 1946                      |\n",
       "| 4999 | 26.279.1   | Cann | Cann | American Decorative Arts | <!----> | 1830 | american | united states  | <!----> | <!----> | Samuel Kirk                           | Silver           | Silver | Overall: 5 x 5 3/16 in. (12.7 x 13.2 cm); 12 oz. 13 dwt. (394 g)\n",
       "Lip: Diam. 3 1/4 in. (8.3 cm)\n",
       "Base: Diam. 3 1/2 in. (3 1/2 in.)      | Gift of Samuel Kirk and Son, Inc., 1926                      |\n",
       "| 5000 | 33.120.271 | Cann | Cann | American Decorative Arts | <!----> | 1745 | american | united states  | <!----> | <!----> | Jeffrey Lang                          | Silver           | Silver | Overall: 4 1/2 x 4 7/8 in. (11.4 x 12.4 cm); 8 oz. 6 dwt. (257.7 g)\n",
       "Lip: Diam. 2 7/8 in. (7.3 cm)\n",
       "Foot: Diam. 2 13/16 in. (7.1 cm)    | Bequest of Alphonso T. Clearwater, 1933                      |\n",
       "\n"
      ],
      "text/plain": [
       "     Object_Number Object_Name Title                                  \n",
       "1    1979.486.1    Coin        One-dollar Liberty Head Coin           \n",
       "2    1980.264.5    Coin        Ten-dollar Liberty Head Coin           \n",
       "3    67.265.9      Coin        Two-and-a-Half Dollar Coin             \n",
       "4    67.265.10     Coin        Two-and-a-Half Dollar Coin             \n",
       "5    67.265.11     Coin        Two-and-a-Half Dollar Coin             \n",
       "6    67.265.12     Coin        Two-and-a-Half Dollar Coin             \n",
       "7    67.265.13     Coin        Two-and-a-Half Dollar Coin             \n",
       "8    67.265.14     Coin        Two-and-a-Half Dollar Coin             \n",
       "9    67.265.15     Coin        Two-and-a-Half Dollar Coin             \n",
       "10   1979.486.3    Coin        Two-and-a-half-dollar Indian Head Coin \n",
       "11   1979.486.2    Coin        Two-and-a-half-dollar Liberty Head Coin\n",
       "12   1979.486.7    Coin        Twenty-dollar Liberty Head Coin        \n",
       "13   1979.486.4    Coin        Five-dollar Indian Head Coin           \n",
       "14   1979.486.5    Coin        Five-dollar Liberty Head Coin          \n",
       "15   16.74.49      Coin        Coin, 1/2 Real                         \n",
       "16   16.74.27      Peso        Coin, 1/4 Peso                         \n",
       "17   16.74.28      Peso        Coin, 1/4 Peso                         \n",
       "18   16.74.29      Peso        Coin, 1/4 Peso                         \n",
       "19   16.74.30      Peso        Coin, 1/4 Peso                         \n",
       "20   16.74.31      Peso        Coin, 1/4 Peso                         \n",
       "21   16.74.32      Peso        Coin, 1/4 Peso                         \n",
       "22   16.74.43      Coin        Coin, 1/4 Real                         \n",
       "23   16.74.44      Coin        Coin, 1/4 Real                         \n",
       "24   16.74.33      Centavos    Coin, 10 Centavos                      \n",
       "25   16.74.34      Centavos    Coin, 10 Centavos                      \n",
       "26   16.74.35      Centavos    Coin, 10 Centavos                      \n",
       "27   16.74.36      Centavos    Coin, 10 Centavos                      \n",
       "28   16.74.38      Centavos    Coin, 10 Centavos                      \n",
       "29   16.74.39      Centavos    Coin, 10 Centavos                      \n",
       "30   16.74.37      Centavos    Coin, 10 Centavos                      \n",
       "⋮    ⋮             ⋮           ⋮                                      \n",
       "4971 43.162.8      Mug         Mug                                    \n",
       "4972 33.120.263    Cann        Cann                                   \n",
       "4973 46.140.809    Mug         Mug                                    \n",
       "4974 33.120.264    Cann        Cann                                   \n",
       "4975 43.162.13     Mug         Mug                                    \n",
       "4976 41.34.24      Mug         Mug                                    \n",
       "4977 62.89.16      Mug         Mug                                    \n",
       "4978 62.89.17      Mug         Mug                                    \n",
       "4979 33.120.265    Cann        Cann                                   \n",
       "4980 33.120.18     Cann        Cann                                   \n",
       "4981 33.120.285    Cann        Cann                                   \n",
       "4982 33.120.286    Cann        Cann                                   \n",
       "4983 24.109.20     Cann        Cann                                   \n",
       "4984 01.3.3        Mug         Mug                                    \n",
       "4985 27.85.9       Mug         Mug                                    \n",
       "4986 33.120.266    Mug         Mug                                    \n",
       "4987 23.80.19      Mug         Mug                                    \n",
       "4988 33.120.267    Mug         Mug                                    \n",
       "4989 46.140.861    Mug         Mug                                    \n",
       "4990 52.101        Mug         Mug                                    \n",
       "4991 51.123.2      Cann        Cann                                   \n",
       "4992 33.120.269    Cann        Cann                                   \n",
       "4993 33.120.268    Mug         Mug                                    \n",
       "4994 22.9          Cann        Cann                                   \n",
       "4995 22.9          Cann        Cann                                   \n",
       "4996 20.48.3       Mug         Mug                                    \n",
       "4997 33.120.270    Mug         Mug                                    \n",
       "4998 46.140.325    Mug         Mug                                    \n",
       "4999 26.279.1      Cann        Cann                                   \n",
       "5000 33.120.271    Cann        Cann                                   \n",
       "     Department                       Period Object_Year Nationality\n",
       "1    American Decorative Arts                1853        american   \n",
       "2    American Decorative Arts                1901        american   \n",
       "3    American Decorative Arts                1927        american   \n",
       "4    American Decorative Arts                1927        american   \n",
       "5    American Decorative Arts                1927        american   \n",
       "6    American Decorative Arts                1927        american   \n",
       "7    American Decorative Arts                1927        american   \n",
       "8    American Decorative Arts                1927        american   \n",
       "9    American Decorative Arts                1927        american   \n",
       "10   American Decorative Arts                1912        american   \n",
       "11   American Decorative Arts                1907        american   \n",
       "12   American Decorative Arts                1876        american   \n",
       "13   American Decorative Arts                1910        american   \n",
       "14   American Decorative Arts                1907        american   \n",
       "15   American Paintings and Sculpture        1700        mexican    \n",
       "16   American Paintings and Sculpture        1900        mexican    \n",
       "17   American Paintings and Sculpture        1867        mexican    \n",
       "18   American Paintings and Sculpture        1860        mexican    \n",
       "19   American Paintings and Sculpture        1859        mexican    \n",
       "20   American Paintings and Sculpture        1860        mexican    \n",
       "21   American Paintings and Sculpture        1859        mexican    \n",
       "22   American Paintings and Sculpture        1881        guatemalan \n",
       "23   American Paintings and Sculpture        1878        guatemalan \n",
       "24   American Paintings and Sculpture        1870        mexican    \n",
       "25   American Paintings and Sculpture        1870        mexican    \n",
       "26   American Paintings and Sculpture        1870        mexican    \n",
       "27   American Paintings and Sculpture        1870        mexican    \n",
       "28   American Paintings and Sculpture        1870        mexican    \n",
       "29   American Paintings and Sculpture        1870        mexican    \n",
       "30   American Paintings and Sculpture        1885        mexican    \n",
       "⋮    ⋮                                ⋮      ⋮           ⋮          \n",
       "4971 American Decorative Arts                1819        american   \n",
       "4972 American Decorative Arts                1775        american   \n",
       "4973 American Decorative Arts                1870        american   \n",
       "4974 American Decorative Arts                1760        american   \n",
       "4975 American Decorative Arts                1840        american   \n",
       "4976 American Decorative Arts                1816        american   \n",
       "4977 American Decorative Arts                1816        american   \n",
       "4978 American Decorative Arts                1816        american   \n",
       "4979 American Decorative Arts                1796        american   \n",
       "4980 American Decorative Arts                1800        american   \n",
       "4981 American Decorative Arts                1750        american   \n",
       "4982 American Decorative Arts                1770        american   \n",
       "4983 American Decorative Arts                1790        american   \n",
       "4984 American Decorative Arts                1750        american   \n",
       "4985 American Decorative Arts                1705        american   \n",
       "4986 American Decorative Arts                1825        american   \n",
       "4987 American Decorative Arts                1750        american   \n",
       "4988 American Decorative Arts                1830        american   \n",
       "4989 American Decorative Arts                1876        american   \n",
       "4990 American Decorative Arts                1800        british    \n",
       "4991 American Decorative Arts                1740        american   \n",
       "4992 American Decorative Arts                1760        american   \n",
       "4993 American Decorative Arts                1820        american   \n",
       "4994 American Decorative Arts                1750        american   \n",
       "4995 American Decorative Arts                1750        american   \n",
       "4996 American Decorative Arts                1850        american   \n",
       "4997 American Decorative Arts                1850        american   \n",
       "4998 American Decorative Arts                1898        american   \n",
       "4999 American Decorative Arts                1830        american   \n",
       "5000 American Decorative Arts                1745        american   \n",
       "     Country        Region Sub_Region Artist_Name                          \n",
       "1    united states                    James Barton Longacre                \n",
       "2    united states                    Christian Gobrecht                   \n",
       "3    united states                                                         \n",
       "4    united states                                                         \n",
       "5    united states                                                         \n",
       "6    united states                                                         \n",
       "7    united states                                                         \n",
       "8    united states                                                         \n",
       "9    united states                                                         \n",
       "10   united states                    Bela Lyon Pratt                      \n",
       "11   united states                    Christian Gobrecht                   \n",
       "12   united states                    James Barton Longacre                \n",
       "13   united states                    Bela Lyon Pratt                      \n",
       "14   united states                    Christian Gobrecht                   \n",
       "15   mexico                                                                \n",
       "16   mexico                           Mexican Artist                       \n",
       "17   mexico                           Mexican Artist                       \n",
       "18   mexico                           Mexican Artist                       \n",
       "19   mexico                                                                \n",
       "20   mexico                                                                \n",
       "21   mexico                                                                \n",
       "22   guatemala                                                             \n",
       "23   guatemala                                                             \n",
       "24   mexico                                                                \n",
       "25   mexico                                                                \n",
       "26   mexico                                                                \n",
       "27   mexico                                                                \n",
       "28   mexico                                                                \n",
       "29   mexico                                                                \n",
       "30   mexico                                                                \n",
       "⋮    ⋮              ⋮      ⋮          ⋮                                    \n",
       "4971 united states                    Parks Boyd                           \n",
       "4972 united states                    Daniel Boyer                         \n",
       "4973 united states                    Bryce, Walker and Company            \n",
       "4974 united states                    John Coverly                         \n",
       "4975 united states                    Daniel Curtiss                       \n",
       "4976 united states                    Samuel Danforth                      \n",
       "4977 united states                    Samuel Danforth                      \n",
       "4978 united states                    Samuel Danforth                      \n",
       "4979 united states                    Cary Dunn                            \n",
       "4980 united states                    Daniel Dupuy                         \n",
       "4981 united states                    Peter Van Dyck                       \n",
       "4982 united states                    Richard Van Dyck                     \n",
       "4983 united states                    Stephen Emery                        \n",
       "4984 united states                    Jacob Ten Eyck                       \n",
       "4985 united states                    Koenraet Ten Eyck                    \n",
       "4986 united states                    Abraham Fellows                      \n",
       "4987 united states                    George Fielding                      \n",
       "4988 united states                    John W. Forbes                       \n",
       "4989 united states                    James Gillinder and Sons             \n",
       "4990 united kingdom                   Thomas Gilpin                        \n",
       "4991 united states                    George Hanners Sr.|George Hanners Jr.\n",
       "4992 united states                    George Hanners Jr.                   \n",
       "4993 united states                    M.H.                                 \n",
       "4994 united states                    Jacob Hurd                           \n",
       "4995 united states                    Jacob Hurd                           \n",
       "4996 united states                    Jersey Glass Company of George Dummer\n",
       "4997 united states                    Jones, Low and Ball                  \n",
       "4998 united states                    King Glass Company                   \n",
       "4999 united states                    Samuel Kirk                          \n",
       "5000 united states                    Jeffrey Lang                         \n",
       "     Medium           Classification\n",
       "1    Gold             Metal         \n",
       "2    Gold             Metal         \n",
       "3    Gold             Metal         \n",
       "4    Gold             Metal         \n",
       "5    Gold             Metal         \n",
       "6    Gold             Metal         \n",
       "7    Gold             Metal         \n",
       "8    Gold             Metal         \n",
       "9    Gold             Metal         \n",
       "10   Gold             Metal         \n",
       "11   Gold             Metal         \n",
       "12   Gold             Metal         \n",
       "13   Gold             Metal         \n",
       "14   Gold             Metal         \n",
       "15   Silver           Silver        \n",
       "16   Bronze or copper Metal         \n",
       "17   Bronze or copper Metal         \n",
       "18   Bronze or copper Metal         \n",
       "19   Bronze or copper Metal         \n",
       "20   Bronze or copper Metal         \n",
       "21   Bronze or copper Metal         \n",
       "22   Silver           Silver        \n",
       "23   Silver           Silver        \n",
       "24   Nickel           Metal         \n",
       "25   Nickel           Metal         \n",
       "26   Nickel           Metal         \n",
       "27   Nickel           Metal         \n",
       "28   Nickel           Metal         \n",
       "29   Nickel           Metal         \n",
       "30   Nickel           Metal         \n",
       "⋮    ⋮                ⋮             \n",
       "4971 Pewter           Metal         \n",
       "4972 Silver           Silver        \n",
       "4973 Pressed glass    Glass         \n",
       "4974 Silver           Silver        \n",
       "4975 Pewter           Metal         \n",
       "4976 Pewter           Metal         \n",
       "4977 Pewter           Metal         \n",
       "4978 Pewter           Metal         \n",
       "4979 Silver           Silver        \n",
       "4980 Silver           Silver        \n",
       "4981 Silver           Silver        \n",
       "4982 Silver           Silver        \n",
       "4983 Silver           Silver        \n",
       "4984 Silver           Silver        \n",
       "4985 Silver           Silver        \n",
       "4986 Silver           Silver        \n",
       "4987 Silver           Silver        \n",
       "4988 Silver           Silver        \n",
       "4989 Pressed glass    Glass         \n",
       "4990 Silver           Silver        \n",
       "4991 Silver           Silver        \n",
       "4992 Silver           Silver        \n",
       "4993 Silver           Silver        \n",
       "4994 Silver           Silver        \n",
       "4995 Silver           Silver        \n",
       "4996 Free-blown glass Glass         \n",
       "4997 Silver           Silver        \n",
       "4998 Pressed glass    Glass         \n",
       "4999 Silver           Silver        \n",
       "5000 Silver           Silver        \n",
       "     Dimensions                                                                                                                             \n",
       "1    Dimensions unavailable                                                                                                                 \n",
       "2    Dimensions unavailable                                                                                                                 \n",
       "3    Diam. 11/16 in. (1.7 cm)                                                                                                               \n",
       "4    Diam. 11/16 in. (1.7 cm)                                                                                                               \n",
       "5    Diam. 11/16 in. (1.7 cm)                                                                                                               \n",
       "6    Diam. 11/16 in. (1.7 cm)                                                                                                               \n",
       "7    Diam. 11/16 in. (1.7 cm)                                                                                                               \n",
       "8    Diam. 11/16 in. (1.7 cm)                                                                                                               \n",
       "9    Diam. 11/16 in. (1.7 cm)                                                                                                               \n",
       "10   Dimensions unavailable                                                                                                                 \n",
       "11   Dimensions unavailable                                                                                                                 \n",
       "12   Dimensions unavailable                                                                                                                 \n",
       "13   Dimensions unavailable                                                                                                                 \n",
       "14   Dimensions unavailable                                                                                                                 \n",
       "15   Diam. 1/2 in. (1.3 cm)                                                                                                                 \n",
       "16   Diam. 1 1/8 in. (2.9 cm)                                                                                                               \n",
       "17   Diam. 1 1/8 in. (2.9 cm)                                                                                                               \n",
       "18   Diam. 1 1/8 in. (2.9 cm)                                                                                                               \n",
       "19   Diam. 1 1/8 in. (2.9 cm)                                                                                                               \n",
       "20   Diam. 1 1/8 in. (2.9 cm)                                                                                                               \n",
       "21   Diam. 1 1/8 in. (2.9 cm)                                                                                                               \n",
       "22   Diam. 1/2 in. (1.3 cm)                                                                                                                 \n",
       "23   Diam. 1/2 in. (1.3 cm)                                                                                                                 \n",
       "24   Diam. 3/4 in. (1.9 cm)                                                                                                                 \n",
       "25   Diam. 3/4 in. (1.9 cm)                                                                                                                 \n",
       "26   Diam. 3/4 in. (1.9 cm)                                                                                                                 \n",
       "27   Diam. 3/4 in. (1.9 cm)                                                                                                                 \n",
       "28   Diam. 3/4 in. (1.9 cm)                                                                                                                 \n",
       "29   Diam. 3/4 in. (1.9 cm)                                                                                                                 \n",
       "30   Diam. 3/4 in. (1.9 cm)                                                                                                                 \n",
       "⋮    ⋮                                                                                                                                      \n",
       "4971 H. 5 3/4 in. (14.6 cm)                                                                                                                 \n",
       "4972 Overall: 5 x 5 3/8 in. (12.7 x 13.7 cm); 11 oz. 11 dwt. (358.5 g)\\nLip: Diam. 3 3/8 in. (8.6 cm)\\nBase: Diam. 3 3/8 in. (8.6 cm)       \n",
       "4973 H. 3 5/8 in. (9.2 cm); Diam. 3 5/16 in. (8.4 cm)                                                                                       \n",
       "4974 Overall: 5 1/8 x 5 1/16 in. (13 x 12.9 cm); 9 oz. 8 dwt. (292.3 g)\\nLip: Diam. 3 1/8 in. (7.9 cm)\\nBase: Diam. 3 1/16 in. (7.8 cm)     \n",
       "4975 H. 3 1/8 in. (7.9 cm)                                                                                                                  \n",
       "4976 H. 3 1/4 in. (8.3 cm)                                                                                                                  \n",
       "4977 H. 2 in. (5.1 cm)                                                                                                                      \n",
       "4978 H. 2 1/2 in. (6.4 cm)                                                                                                                  \n",
       "4979 Overall: 3 1/2 x 3 7/8 in. (8.9 x 9.8 cm); 3 oz. 2 dwt. (95.8 g)\\nLip: Diam. 2 5/8 in. (6.7 cm)\\nFoot: Diam. 2 3/8 in. (6 cm)          \n",
       "4980 Overall: 6 5/8 x 6 1/2 in. (16.8 x 16.5 cm); 22 oz. 6 dwt. (692.9 g)\\nLip: Diam. 4 in. (10.2 cm)\\nBase: Diam. 4 1/2 in. (11.4 cm)      \n",
       "4981 Overall: 4 5/8 x 4 7/8 in. (11.7 x 12.4 cm); 10 oz. 15 dwt. (335.1 g)\\nLip: Diam. 3 1/8 in. (7.9 cm)\\nFoot: Diam. 2 7/8 in. (7.3 cm)   \n",
       "4982 Overall: 4 13/16 x 4 15/16 in. (12.2 x 12.5 cm); 10 oz. 14 dwt. (333.5 g)\\nLip: Diam. 3 1/4 in. (8.3 cm)\\nFoot: Diam. 3 in. (7.6 cm)   \n",
       "4983 Overall: 5 13/16 x 5 5/8 in. (14.8 x 14.3 cm); 13 oz. 19 dwt. (435.3 g)\\nLip: Diam. 3 5/8 in. (9.2 cm)\\nBase: Diam. 3 7/16 in. (8.7 cm)\n",
       "4984 Overall: 4 x 4 9/16 in. (10.2 x 11.6 cm); 9 oz. 12 dwt. (297.9 g)\\nLip: Diam. 2 15/16 in. (7.5 cm)\\nFoot: Diam. 3 1/4 in. (8.3 cm)     \n",
       "4985 Overall: 3 5/8 x 5 1/4 in. (9.2 x 13.3 cm); 7 oz. 17 dwt. (244.7 g)\\nLip: Diam. 3 1/16 in. (7.8 cm)\\nBase: Diam. 3 7/16 in. (8.7 cm)   \n",
       "4986 Overall: 4 1/8 x 4 1/4 in. (10.5 x 10.8 cm); 3 oz. 17 dwt. (119 g)\\nLip: Diam. 2 3/4 in. (7 cm)\\nBase: Diam. 2 5/8 in. (6.7 cm)        \n",
       "4987 Overall: 3 9/16 x 5 7/16 in. (9 x 13.8 cm); 8 oz. 13 dwt. (268.9 g)\\nLip: Diam. 3 5/16 in. (8.4 cm)\\nFoot: Diam. 3 1/2 in. (8.9 cm)    \n",
       "4988 Overall: 3 1/4 x 4 1/8 in. (8.3 x 10.5 cm);  4 oz. 4 dwt. (130 g)\\nLip: Diam. 2 5/8 in. (6.7 cm)\\nBase: Diam. 2 11/16 in. (6.8 cm)     \n",
       "4989 H. 3 1/2 in. (8.9 cm)                                                                                                                  \n",
       "4990 Overall: 3 11/16 x 4 5/16 in. (9.4 x 11 cm); 7 oz. 11 dwt. (234.6 g)\\nLip: Diam. 2 9/16 in. (6.5 cm)\\nFoot: Diam. 2 15/16 in. (7.5 cm) \n",
       "4991 Overall: 5 5/16 x 5 5/16 in. (13.5 x 13.5 cm); 13 oz. 1 dwt. (406.4 g)\\nLip: Diam. 3 3/16 in. (8.1 cm)\\nFoot: Diam. 3 3/16 in. (8.1 cm)\n",
       "4992 Overall: 4 13/16 x 5 1/4 in. (12.2 x 13.3 cm); 11 oz. 15 dwt. (365 g)\\nLip: Diam. 3 1/2 in. (8.9 cm)\\nFoot: Diam. 3 5/8 in. (9.2 cm)   \n",
       "4993 Overall: 3 1/8 x 4 in. (7.9 x 10.2 cm); 4 oz. 14 dwt. (146.8 g)\\nLip: Diam. 2 1/2 in. (6.4 cm)\\nFoot: Diam. 2 15/16 in. (7.5 cm)       \n",
       "4994 Overall: 5 x 5 1/16 in. (12.7 x 12.9 cm); 10 oz. 14 dwt. (332.4 g)\\nLip: Diam. 3 3/16 in. (8.1 cm)\\nFoot: Diam. 3 5/16 in. (8.4 cm)    \n",
       "4995 Overall: 5 x 5 1/16 in. (12.7 x 12.9 cm); 10 oz. 14 dwt. (332.4 g)\\nLip: Diam. 3 3/16 in. (8.1 cm)\\nFoot: Diam. 3 5/16 in. (8.4 cm)    \n",
       "4996 H. 7 1/4 in. (18.4 cm)                                                                                                                 \n",
       "4997 Overall: 4 15/16 x 4 5/8 in. (12.5 x 11.7 cm); 4 oz. 19 dwt. (153.9 g)\\nLip: Diam. 3 1/4 in. (8.3 cm)\\nFoot: Diam. 2 5/8 in. (6.7 cm)  \n",
       "4998 H. 3 5/16 in. (8.4 cm)                                                                                                                 \n",
       "4999 Overall: 5 x 5 3/16 in. (12.7 x 13.2 cm); 12 oz. 13 dwt. (394 g)\\nLip: Diam. 3 1/4 in. (8.3 cm)\\nBase: Diam. 3 1/2 in. (3 1/2 in.)     \n",
       "5000 Overall: 4 1/2 x 4 7/8 in. (11.4 x 12.4 cm); 8 oz. 6 dwt. (257.7 g)\\nLip: Diam. 2 7/8 in. (7.3 cm)\\nFoot: Diam. 2 13/16 in. (7.1 cm)   \n",
       "     Credit                                                      \n",
       "1    Gift of Heinz L. Stoppelmann, 1979                          \n",
       "2    Gift of Heinz L. Stoppelmann, 1980                          \n",
       "3    Gift of C. Ruxton Love, Jr., 1967                           \n",
       "4    Gift of C. Ruxton Love, Jr., 1967                           \n",
       "5    Gift of C. Ruxton Love, Jr., 1967                           \n",
       "6    Gift of C. Ruxton Love, Jr., 1967                           \n",
       "7    Gift of C. Ruxton Love, Jr., 1967                           \n",
       "8    Gift of C. Ruxton Love, Jr., 1967                           \n",
       "9    Gift of C. Ruxton Love, Jr., 1967                           \n",
       "10   Gift of Heinz L. Stoppelmann, 1979                          \n",
       "11   Gift of Heinz L. Stoppelmann, 1979                          \n",
       "12   Gift of Heinz L. Stoppelmann, 1979                          \n",
       "13   Gift of Heinz L. Stoppelmann, 1979                          \n",
       "14   Gift of Heinz L. Stoppelmann, 1979                          \n",
       "15   Gift of Mrs. Russell Sage, 1916                             \n",
       "16   Gift of Mrs. Russell Sage, 1916                             \n",
       "17   Gift of Mrs. Russell Sage, 1916                             \n",
       "18   Gift of Mrs. Russell Sage, 1916                             \n",
       "19   Gift of Mrs. Russell Sage, 1916                             \n",
       "20   Gift of Mrs. Russell Sage, 1916                             \n",
       "21   Gift of Mrs. Russell Sage, 1916                             \n",
       "22   Gift of Mrs. Russell Sage, 1916                             \n",
       "23   Gift of Mrs. Russell Sage, 1916                             \n",
       "24   Gift of Mrs. Russell Sage, 1916                             \n",
       "25   Gift of Mrs. Russell Sage, 1916                             \n",
       "26   Gift of Mrs. Russell Sage, 1916                             \n",
       "27   Gift of Mrs. Russell Sage, 1916                             \n",
       "28   Gift of Mrs. Russell Sage, 1916                             \n",
       "29   Gift of Mrs. Russell Sage, 1916                             \n",
       "30   Gift of Mrs. Russell Sage, 1916                             \n",
       "⋮    ⋮                                                           \n",
       "4971 Gift of Joseph France, 1943                                 \n",
       "4972 Bequest of Alphonso T. Clearwater, 1933                     \n",
       "4973 Gift of Mrs. Emily Winthrop Miles, 1946                     \n",
       "4974 Bequest of Alphonso T. Clearwater, 1933                     \n",
       "4975 Gift of Joseph France, 1943                                 \n",
       "4976 Gift of Mrs. J. Insley Blair, in memory of her husband, 1941\n",
       "4977 Gift of Mrs. Stephen S. FitzGerald, 1962                    \n",
       "4978 Gift of Mrs. Stephen S. FitzGerald, 1962                    \n",
       "4979 Bequest of Alphonso T. Clearwater, 1933                     \n",
       "4980 Bequest of Alphonso T. Clearwater, 1933                     \n",
       "4981 Bequest of Alphonso T. Clearwater, 1933                     \n",
       "4982 Bequest of Alphonso T. Clearwater, 1933                     \n",
       "4983 Bequest of Charles Allen Munn, 1924                         \n",
       "4984 Gift of Mrs. Abraham Lansing, 1901                          \n",
       "4985 Gift of Annie Clarkson, 1927                                \n",
       "4986 Bequest of Alphonso T. Clearwater, 1933                     \n",
       "4987 Gift of Mr. and Mrs. William A. Moore, 1923                 \n",
       "4988 Bequest of Alphonso T. Clearwater, 1933                     \n",
       "4989 Gift of Mrs. Emily Winthrop Miles, 1946                     \n",
       "4990 Posthumous Gift of Gulian Verplanck Quillard, 1952          \n",
       "4991 Gift of Robert Ogden Bishop, 1951                           \n",
       "4992 Bequest of Alphonso T. Clearwater, 1933                     \n",
       "4993 Bequest of Alphonso T. Clearwater, 1933                     \n",
       "4994 Rogers Fund, 1922                                           \n",
       "4995 Rogers Fund, 1922                                           \n",
       "4996 Gift of Mrs. Ernest A. Fairchild, 1920                      \n",
       "4997 Bequest of Alphonso T. Clearwater, 1933                     \n",
       "4998 Gift of Mrs. Emily Winthrop Miles, 1946                     \n",
       "4999 Gift of Samuel Kirk and Son, Inc., 1926                     \n",
       "5000 Bequest of Alphonso T. Clearwater, 1933                     "
      ]
     },
     "metadata": {},
     "output_type": "display_data"
    }
   ],
   "source": [
    "head(met_clean_df, n=5000)"
   ]
  },
  {
   "cell_type": "markdown",
   "id": "b595d646-e4c2-4d3f-a1b2-03b18958041f",
   "metadata": {
    "tags": []
   },
   "source": [
    "## **Update after Phase 2**:\n",
    "\n",
    "* met_clean_df: Country has 175717 unknown records out of 450311 total, and Nationality has 177296 \n",
    "* 190648 records were added to Country (52% increase), and 74936 were added to Nationality (29.7% increase)\n",
    "\n",
    "### Background: \n",
    "* met_df: Country_2 had 366365 unknown records; Country_2 had 252232\n",
    "\n",
    "### Reflections:\n",
    "* A mysterious 2108 records added to met_clean_df: total rows for met_clean_df is 450311, while met_df is only 448203\n",
    "* There is also a 1579-value discrepancy between unknowns in Country and Nationality in met_clean_df\n",
    "\n",
    "These may be related to country and nationality values in met_df that do not correspond to the countries linking df.\n",
    "\n",
    "With the majority of country data tracking, can this portion of the dataset be used to train an ML model that can predict the country data for the remaining unknown values? \n",
    "\n",
    "Many of these columns contain string data; how could it best be quantified within a training set?\n",
    "\n",
    "The most obvious identifying feature - the image - is also missing. Using the image would be helpful in predicting unknown country values.\n",
    "\n",
    "The 'Link_Resource' column is easy to feed into a web scraper; however, some of the Met images online are public domain, while others are not."
   ]
  },
  {
   "cell_type": "markdown",
   "id": "2d6bcdc4",
   "metadata": {},
   "source": []
  }
 ],
 "metadata": {
  "kernelspec": {
   "display_name": "R",
   "language": "R",
   "name": "ir"
  },
  "language_info": {
   "codemirror_mode": "r",
   "file_extension": ".r",
   "mimetype": "text/x-r-source",
   "name": "R",
   "pygments_lexer": "r",
   "version": "4.2.0"
  }
 },
 "nbformat": 4,
 "nbformat_minor": 5
}
